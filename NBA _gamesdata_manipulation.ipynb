{
 "cells": [
  {
   "cell_type": "markdown",
   "id": "0f8c20c5-433f-48f8-a1d3-e401ae14f1c1",
   "metadata": {},
   "source": [
    "# NBA Games Data Manipulation and Exploration"
   ]
  },
  {
   "cell_type": "markdown",
   "id": "e0ac4ff5-17df-458e-aa77-2d8ce1fc0183",
   "metadata": {},
   "source": [
    "## Context:\n",
    "- Data is for NBA games from 2004 to Dec. 2020\n",
    "- Data source (some changes have been made): https://www.kaggle.com/nathanlauga/nba-games"
   ]
  },
  {
   "cell_type": "markdown",
   "id": "b0552cfa-9758-48da-a680-9cc7284354e1",
   "metadata": {},
   "source": [
    "## Dataset Description:\n",
    "- \"games\": each game played, including information about teams and number of points, etc.\n",
    "- \"teams\": information about each team playing in games "
   ]
  },
  {
   "cell_type": "code",
   "execution_count": 105,
   "id": "fa1ecaf6-3d5c-4c1b-a9c0-23d89c38a962",
   "metadata": {
    "tags": []
   },
   "outputs": [],
   "source": [
    "#Import pandas library"
   ]
  },
  {
   "cell_type": "code",
   "execution_count": 106,
   "id": "dab46314-cfed-447d-a4d0-19900ca9bc3d",
   "metadata": {
    "tags": []
   },
   "outputs": [],
   "source": [
    "import pandas as pd"
   ]
  },
  {
   "cell_type": "code",
   "execution_count": 107,
   "id": "42f1d0ea-5660-4cb2-8563-4d92f82ef891",
   "metadata": {
    "tags": []
   },
   "outputs": [],
   "source": [
    "#Load data from csv as dataframe called games"
   ]
  },
  {
   "cell_type": "code",
   "execution_count": 108,
   "id": "aaed248e-3fa9-4c4c-981b-7ec1c72024a0",
   "metadata": {
    "tags": []
   },
   "outputs": [],
   "source": [
    "games=pd.read_csv('games.csv')"
   ]
  },
  {
   "cell_type": "code",
   "execution_count": 109,
   "id": "c843eeb5-4e0b-4e5e-b5fd-3c7abe424fff",
   "metadata": {
    "tags": []
   },
   "outputs": [],
   "source": [
    "#Inspect dataframe"
   ]
  },
  {
   "cell_type": "code",
   "execution_count": 110,
   "id": "5e6ebb9a-89df-4a15-b74f-d0e489d7990a",
   "metadata": {
    "tags": []
   },
   "outputs": [
    {
     "data": {
      "text/html": [
       "<div>\n",
       "<style scoped>\n",
       "    .dataframe tbody tr th:only-of-type {\n",
       "        vertical-align: middle;\n",
       "    }\n",
       "\n",
       "    .dataframe tbody tr th {\n",
       "        vertical-align: top;\n",
       "    }\n",
       "\n",
       "    .dataframe thead th {\n",
       "        text-align: right;\n",
       "    }\n",
       "</style>\n",
       "<table border=\"1\" class=\"dataframe\">\n",
       "  <thead>\n",
       "    <tr style=\"text-align: right;\">\n",
       "      <th></th>\n",
       "      <th>GAME_DATE</th>\n",
       "      <th>GAME_ID</th>\n",
       "      <th>GAME_STATUS_TEXT</th>\n",
       "      <th>HOME_TEAM_ID</th>\n",
       "      <th>VISITOR_TEAM_ID</th>\n",
       "      <th>SEASON</th>\n",
       "      <th>TEAM_ID_home</th>\n",
       "      <th>POINTS_home</th>\n",
       "      <th>FG_PCT_home</th>\n",
       "      <th>FT_PCT_home</th>\n",
       "      <th>...</th>\n",
       "      <th>AST_home</th>\n",
       "      <th>REB_home</th>\n",
       "      <th>TEAM_ID_away</th>\n",
       "      <th>POINTS_away</th>\n",
       "      <th>FG_PCT_away</th>\n",
       "      <th>FT_PCT_away</th>\n",
       "      <th>FG3_PCT_away</th>\n",
       "      <th>AST_away</th>\n",
       "      <th>REB_away</th>\n",
       "      <th>HOME_TEAM_WINS</th>\n",
       "    </tr>\n",
       "  </thead>\n",
       "  <tbody>\n",
       "    <tr>\n",
       "      <th>0</th>\n",
       "      <td>2020-12-19</td>\n",
       "      <td>12000047</td>\n",
       "      <td>Final</td>\n",
       "      <td>1610612753</td>\n",
       "      <td>1610612766</td>\n",
       "      <td>2020</td>\n",
       "      <td>1610612753</td>\n",
       "      <td>120</td>\n",
       "      <td>0.433</td>\n",
       "      <td>0.792</td>\n",
       "      <td>...</td>\n",
       "      <td>23</td>\n",
       "      <td>50</td>\n",
       "      <td>1610612766</td>\n",
       "      <td>117</td>\n",
       "      <td>0.444</td>\n",
       "      <td>0.864</td>\n",
       "      <td>0.439</td>\n",
       "      <td>21</td>\n",
       "      <td>52</td>\n",
       "      <td>1</td>\n",
       "    </tr>\n",
       "    <tr>\n",
       "      <th>1</th>\n",
       "      <td>2020-12-19</td>\n",
       "      <td>12000048</td>\n",
       "      <td>Final</td>\n",
       "      <td>1610612764</td>\n",
       "      <td>1610612765</td>\n",
       "      <td>2020</td>\n",
       "      <td>1610612764</td>\n",
       "      <td>99</td>\n",
       "      <td>0.427</td>\n",
       "      <td>0.625</td>\n",
       "      <td>...</td>\n",
       "      <td>24</td>\n",
       "      <td>45</td>\n",
       "      <td>1610612765</td>\n",
       "      <td>96</td>\n",
       "      <td>0.402</td>\n",
       "      <td>0.647</td>\n",
       "      <td>0.326</td>\n",
       "      <td>18</td>\n",
       "      <td>51</td>\n",
       "      <td>1</td>\n",
       "    </tr>\n",
       "    <tr>\n",
       "      <th>2</th>\n",
       "      <td>2020-12-19</td>\n",
       "      <td>12000049</td>\n",
       "      <td>Final</td>\n",
       "      <td>1610612763</td>\n",
       "      <td>1610612737</td>\n",
       "      <td>2020</td>\n",
       "      <td>1610612763</td>\n",
       "      <td>116</td>\n",
       "      <td>0.400</td>\n",
       "      <td>0.744</td>\n",
       "      <td>...</td>\n",
       "      <td>21</td>\n",
       "      <td>43</td>\n",
       "      <td>1610612737</td>\n",
       "      <td>117</td>\n",
       "      <td>0.422</td>\n",
       "      <td>0.837</td>\n",
       "      <td>0.297</td>\n",
       "      <td>24</td>\n",
       "      <td>47</td>\n",
       "      <td>0</td>\n",
       "    </tr>\n",
       "    <tr>\n",
       "      <th>3</th>\n",
       "      <td>2020-12-18</td>\n",
       "      <td>12000039</td>\n",
       "      <td>Final</td>\n",
       "      <td>1610612754</td>\n",
       "      <td>1610612755</td>\n",
       "      <td>2020</td>\n",
       "      <td>1610612754</td>\n",
       "      <td>107</td>\n",
       "      <td>0.371</td>\n",
       "      <td>0.692</td>\n",
       "      <td>...</td>\n",
       "      <td>19</td>\n",
       "      <td>45</td>\n",
       "      <td>1610612755</td>\n",
       "      <td>113</td>\n",
       "      <td>0.533</td>\n",
       "      <td>0.629</td>\n",
       "      <td>0.355</td>\n",
       "      <td>23</td>\n",
       "      <td>48</td>\n",
       "      <td>0</td>\n",
       "    </tr>\n",
       "    <tr>\n",
       "      <th>4</th>\n",
       "      <td>2020-12-18</td>\n",
       "      <td>12000040</td>\n",
       "      <td>Final</td>\n",
       "      <td>1610612761</td>\n",
       "      <td>1610612748</td>\n",
       "      <td>2020</td>\n",
       "      <td>1610612761</td>\n",
       "      <td>105</td>\n",
       "      <td>0.380</td>\n",
       "      <td>0.737</td>\n",
       "      <td>...</td>\n",
       "      <td>27</td>\n",
       "      <td>37</td>\n",
       "      <td>1610612748</td>\n",
       "      <td>117</td>\n",
       "      <td>0.534</td>\n",
       "      <td>0.741</td>\n",
       "      <td>0.514</td>\n",
       "      <td>30</td>\n",
       "      <td>51</td>\n",
       "      <td>0</td>\n",
       "    </tr>\n",
       "  </tbody>\n",
       "</table>\n",
       "<p>5 rows × 21 columns</p>\n",
       "</div>"
      ],
      "text/plain": [
       "    GAME_DATE   GAME_ID GAME_STATUS_TEXT  HOME_TEAM_ID  VISITOR_TEAM_ID  \\\n",
       "0  2020-12-19  12000047            Final    1610612753       1610612766   \n",
       "1  2020-12-19  12000048            Final    1610612764       1610612765   \n",
       "2  2020-12-19  12000049            Final    1610612763       1610612737   \n",
       "3  2020-12-18  12000039            Final    1610612754       1610612755   \n",
       "4  2020-12-18  12000040            Final    1610612761       1610612748   \n",
       "\n",
       "   SEASON  TEAM_ID_home  POINTS_home  FG_PCT_home  FT_PCT_home  ...  AST_home  \\\n",
       "0    2020    1610612753          120        0.433        0.792  ...        23   \n",
       "1    2020    1610612764           99        0.427        0.625  ...        24   \n",
       "2    2020    1610612763          116        0.400        0.744  ...        21   \n",
       "3    2020    1610612754          107        0.371        0.692  ...        19   \n",
       "4    2020    1610612761          105        0.380        0.737  ...        27   \n",
       "\n",
       "   REB_home  TEAM_ID_away  POINTS_away  FG_PCT_away  FT_PCT_away  \\\n",
       "0        50    1610612766          117        0.444        0.864   \n",
       "1        45    1610612765           96        0.402        0.647   \n",
       "2        43    1610612737          117        0.422        0.837   \n",
       "3        45    1610612755          113        0.533        0.629   \n",
       "4        37    1610612748          117        0.534        0.741   \n",
       "\n",
       "   FG3_PCT_away  AST_away  REB_away  HOME_TEAM_WINS  \n",
       "0         0.439        21        52               1  \n",
       "1         0.326        18        51               1  \n",
       "2         0.297        24        47               0  \n",
       "3         0.355        23        48               0  \n",
       "4         0.514        30        51               0  \n",
       "\n",
       "[5 rows x 21 columns]"
      ]
     },
     "execution_count": 110,
     "metadata": {},
     "output_type": "execute_result"
    }
   ],
   "source": [
    "games.head()"
   ]
  },
  {
   "cell_type": "code",
   "execution_count": 111,
   "id": "08918347-4860-43f8-ab62-e6f016509531",
   "metadata": {
    "tags": []
   },
   "outputs": [],
   "source": [
    "#Inspect dataframe columns"
   ]
  },
  {
   "cell_type": "code",
   "execution_count": 112,
   "id": "f831ef13-d7c9-41ed-aab9-4c5005c6d74b",
   "metadata": {
    "tags": []
   },
   "outputs": [
    {
     "data": {
      "text/plain": [
       "Index(['GAME_DATE', 'GAME_ID', 'GAME_STATUS_TEXT', 'HOME_TEAM_ID',\n",
       "       'VISITOR_TEAM_ID', 'SEASON', 'TEAM_ID_home', 'POINTS_home',\n",
       "       'FG_PCT_home', 'FT_PCT_home', 'FG3_PCT_home', 'AST_home', 'REB_home',\n",
       "       'TEAM_ID_away', 'POINTS_away', 'FG_PCT_away', 'FT_PCT_away',\n",
       "       'FG3_PCT_away', 'AST_away', 'REB_away', 'HOME_TEAM_WINS'],\n",
       "      dtype='object')"
      ]
     },
     "execution_count": 112,
     "metadata": {},
     "output_type": "execute_result"
    }
   ],
   "source": [
    "games.columns"
   ]
  },
  {
   "cell_type": "code",
   "execution_count": 113,
   "id": "5f20186e-6331-490d-8b42-65cb9b7b3354",
   "metadata": {
    "tags": []
   },
   "outputs": [],
   "source": [
    "#Reassign games as subset of only columns desired"
   ]
  },
  {
   "cell_type": "code",
   "execution_count": 114,
   "id": "c5feffa4-9c4c-4d1a-b8f7-7d48c4bb791e",
   "metadata": {
    "tags": []
   },
   "outputs": [],
   "source": [
    "games=games[['GAME_DATE','GAME_STATUS_TEXT','TEAM_ID_home','TEAM_ID_away','POINTS_home','POINTS_away','HOME_TEAM_WINS']]"
   ]
  },
  {
   "cell_type": "code",
   "execution_count": 115,
   "id": "1d8190cd-c415-4e63-8cef-177a988b1031",
   "metadata": {
    "tags": []
   },
   "outputs": [],
   "source": [
    "#Ensure changes have been made correctly to dataframe"
   ]
  },
  {
   "cell_type": "code",
   "execution_count": 116,
   "id": "4eba7084-49ac-4c1d-867a-a20413918502",
   "metadata": {
    "tags": []
   },
   "outputs": [
    {
     "data": {
      "text/html": [
       "<div>\n",
       "<style scoped>\n",
       "    .dataframe tbody tr th:only-of-type {\n",
       "        vertical-align: middle;\n",
       "    }\n",
       "\n",
       "    .dataframe tbody tr th {\n",
       "        vertical-align: top;\n",
       "    }\n",
       "\n",
       "    .dataframe thead th {\n",
       "        text-align: right;\n",
       "    }\n",
       "</style>\n",
       "<table border=\"1\" class=\"dataframe\">\n",
       "  <thead>\n",
       "    <tr style=\"text-align: right;\">\n",
       "      <th></th>\n",
       "      <th>GAME_DATE</th>\n",
       "      <th>GAME_STATUS_TEXT</th>\n",
       "      <th>TEAM_ID_home</th>\n",
       "      <th>TEAM_ID_away</th>\n",
       "      <th>POINTS_home</th>\n",
       "      <th>POINTS_away</th>\n",
       "      <th>HOME_TEAM_WINS</th>\n",
       "    </tr>\n",
       "  </thead>\n",
       "  <tbody>\n",
       "    <tr>\n",
       "      <th>0</th>\n",
       "      <td>2020-12-19</td>\n",
       "      <td>Final</td>\n",
       "      <td>1610612753</td>\n",
       "      <td>1610612766</td>\n",
       "      <td>120</td>\n",
       "      <td>117</td>\n",
       "      <td>1</td>\n",
       "    </tr>\n",
       "    <tr>\n",
       "      <th>1</th>\n",
       "      <td>2020-12-19</td>\n",
       "      <td>Final</td>\n",
       "      <td>1610612764</td>\n",
       "      <td>1610612765</td>\n",
       "      <td>99</td>\n",
       "      <td>96</td>\n",
       "      <td>1</td>\n",
       "    </tr>\n",
       "    <tr>\n",
       "      <th>2</th>\n",
       "      <td>2020-12-19</td>\n",
       "      <td>Final</td>\n",
       "      <td>1610612763</td>\n",
       "      <td>1610612737</td>\n",
       "      <td>116</td>\n",
       "      <td>117</td>\n",
       "      <td>0</td>\n",
       "    </tr>\n",
       "    <tr>\n",
       "      <th>3</th>\n",
       "      <td>2020-12-18</td>\n",
       "      <td>Final</td>\n",
       "      <td>1610612754</td>\n",
       "      <td>1610612755</td>\n",
       "      <td>107</td>\n",
       "      <td>113</td>\n",
       "      <td>0</td>\n",
       "    </tr>\n",
       "    <tr>\n",
       "      <th>4</th>\n",
       "      <td>2020-12-18</td>\n",
       "      <td>Final</td>\n",
       "      <td>1610612761</td>\n",
       "      <td>1610612748</td>\n",
       "      <td>105</td>\n",
       "      <td>117</td>\n",
       "      <td>0</td>\n",
       "    </tr>\n",
       "  </tbody>\n",
       "</table>\n",
       "</div>"
      ],
      "text/plain": [
       "    GAME_DATE GAME_STATUS_TEXT  TEAM_ID_home  TEAM_ID_away  POINTS_home  \\\n",
       "0  2020-12-19            Final    1610612753    1610612766          120   \n",
       "1  2020-12-19            Final    1610612764    1610612765           99   \n",
       "2  2020-12-19            Final    1610612763    1610612737          116   \n",
       "3  2020-12-18            Final    1610612754    1610612755          107   \n",
       "4  2020-12-18            Final    1610612761    1610612748          105   \n",
       "\n",
       "   POINTS_away  HOME_TEAM_WINS  \n",
       "0          117               1  \n",
       "1           96               1  \n",
       "2          117               0  \n",
       "3          113               0  \n",
       "4          117               0  "
      ]
     },
     "execution_count": 116,
     "metadata": {},
     "output_type": "execute_result"
    }
   ],
   "source": [
    "games.head()"
   ]
  },
  {
   "cell_type": "code",
   "execution_count": 117,
   "id": "c124ef71-8fa3-4fd7-a0e2-04f8d4f5dda1",
   "metadata": {
    "tags": []
   },
   "outputs": [],
   "source": [
    "#Inspect new dataframe's info"
   ]
  },
  {
   "cell_type": "code",
   "execution_count": 118,
   "id": "9d0b1f52-25b6-4162-b16e-c7b1f066262a",
   "metadata": {
    "tags": []
   },
   "outputs": [
    {
     "name": "stdout",
     "output_type": "stream",
     "text": [
      "<class 'pandas.core.frame.DataFrame'>\n",
      "RangeIndex: 23421 entries, 0 to 23420\n",
      "Data columns (total 7 columns):\n",
      " #   Column            Non-Null Count  Dtype \n",
      "---  ------            --------------  ----- \n",
      " 0   GAME_DATE         23421 non-null  object\n",
      " 1   GAME_STATUS_TEXT  23421 non-null  object\n",
      " 2   TEAM_ID_home      23421 non-null  int64 \n",
      " 3   TEAM_ID_away      23421 non-null  int64 \n",
      " 4   POINTS_home       23421 non-null  int64 \n",
      " 5   POINTS_away       23421 non-null  int64 \n",
      " 6   HOME_TEAM_WINS    23421 non-null  int64 \n",
      "dtypes: int64(5), object(2)\n",
      "memory usage: 1.3+ MB\n"
     ]
    }
   ],
   "source": [
    "games.info()"
   ]
  },
  {
   "cell_type": "code",
   "execution_count": 119,
   "id": "4d061a2a-83a6-4330-9d3e-efe203b758c1",
   "metadata": {
    "tags": []
   },
   "outputs": [],
   "source": [
    "#Change game data column to datetime datatype"
   ]
  },
  {
   "cell_type": "code",
   "execution_count": 120,
   "id": "aa877a2d-e60f-40bf-9293-1eccac894959",
   "metadata": {
    "tags": []
   },
   "outputs": [],
   "source": [
    "games['GAME_DATE']=pd.to_datetime(games['GAME_DATE'])"
   ]
  },
  {
   "cell_type": "code",
   "execution_count": 121,
   "id": "3531e877-19a5-4d04-9d89-659d6942fe37",
   "metadata": {
    "tags": []
   },
   "outputs": [],
   "source": [
    "#Change game status column to string datatype"
   ]
  },
  {
   "cell_type": "code",
   "execution_count": 122,
   "id": "e0f6adc1-224a-4264-966f-2a94cdeba9f3",
   "metadata": {
    "tags": []
   },
   "outputs": [],
   "source": [
    "games['GAME_STATUS_TEXT']=games['GAME_STATUS_TEXT'].astype('string')"
   ]
  },
  {
   "cell_type": "code",
   "execution_count": 123,
   "id": "2d4d7c56-d414-4439-9de9-44ad7828436b",
   "metadata": {
    "tags": []
   },
   "outputs": [],
   "source": [
    "#Ensure changes have been made correctly to dataframe"
   ]
  },
  {
   "cell_type": "code",
   "execution_count": 124,
   "id": "9dc60f89-ce15-425a-941b-b17866059b58",
   "metadata": {
    "tags": []
   },
   "outputs": [
    {
     "name": "stdout",
     "output_type": "stream",
     "text": [
      "<class 'pandas.core.frame.DataFrame'>\n",
      "RangeIndex: 23421 entries, 0 to 23420\n",
      "Data columns (total 7 columns):\n",
      " #   Column            Non-Null Count  Dtype         \n",
      "---  ------            --------------  -----         \n",
      " 0   GAME_DATE         23421 non-null  datetime64[ns]\n",
      " 1   GAME_STATUS_TEXT  23421 non-null  string        \n",
      " 2   TEAM_ID_home      23421 non-null  int64         \n",
      " 3   TEAM_ID_away      23421 non-null  int64         \n",
      " 4   POINTS_home       23421 non-null  int64         \n",
      " 5   POINTS_away       23421 non-null  int64         \n",
      " 6   HOME_TEAM_WINS    23421 non-null  int64         \n",
      "dtypes: datetime64[ns](1), int64(5), string(1)\n",
      "memory usage: 1.3 MB\n"
     ]
    }
   ],
   "source": [
    "games.info()"
   ]
  },
  {
   "cell_type": "code",
   "execution_count": 125,
   "id": "4912c163-79ef-48db-9810-429e61597803",
   "metadata": {
    "tags": []
   },
   "outputs": [],
   "source": [
    "#Load data from csv as dataframe called teams and inspect"
   ]
  },
  {
   "cell_type": "code",
   "execution_count": 126,
   "id": "73de5145-a75a-407a-afcc-05dcd1d44c2c",
   "metadata": {
    "tags": []
   },
   "outputs": [
    {
     "data": {
      "text/html": [
       "<div>\n",
       "<style scoped>\n",
       "    .dataframe tbody tr th:only-of-type {\n",
       "        vertical-align: middle;\n",
       "    }\n",
       "\n",
       "    .dataframe tbody tr th {\n",
       "        vertical-align: top;\n",
       "    }\n",
       "\n",
       "    .dataframe thead th {\n",
       "        text-align: right;\n",
       "    }\n",
       "</style>\n",
       "<table border=\"1\" class=\"dataframe\">\n",
       "  <thead>\n",
       "    <tr style=\"text-align: right;\">\n",
       "      <th></th>\n",
       "      <th>LEAGUE_ID</th>\n",
       "      <th>TEAM_ID</th>\n",
       "      <th>MIN_YEAR</th>\n",
       "      <th>MAX_YEAR</th>\n",
       "      <th>ABBREVIATION</th>\n",
       "      <th>NICKNAME</th>\n",
       "      <th>YEARFOUNDED</th>\n",
       "      <th>CITY</th>\n",
       "      <th>ARENA</th>\n",
       "      <th>ARENACAPACITY</th>\n",
       "      <th>OWNER</th>\n",
       "      <th>GENERALMANAGER</th>\n",
       "      <th>HEADCOACH</th>\n",
       "      <th>DLEAGUEAFFILIATION</th>\n",
       "    </tr>\n",
       "  </thead>\n",
       "  <tbody>\n",
       "    <tr>\n",
       "      <th>0</th>\n",
       "      <td>0</td>\n",
       "      <td>1610612737</td>\n",
       "      <td>1949</td>\n",
       "      <td>2019</td>\n",
       "      <td>ATL</td>\n",
       "      <td>Hawks</td>\n",
       "      <td>1949</td>\n",
       "      <td>Atlanta</td>\n",
       "      <td>State Farm Arena</td>\n",
       "      <td>18729.0</td>\n",
       "      <td>Tony Ressler</td>\n",
       "      <td>Travis Schlenk</td>\n",
       "      <td>Lloyd Pierce</td>\n",
       "      <td>Erie Bayhawks</td>\n",
       "    </tr>\n",
       "    <tr>\n",
       "      <th>1</th>\n",
       "      <td>0</td>\n",
       "      <td>1610612738</td>\n",
       "      <td>1946</td>\n",
       "      <td>2019</td>\n",
       "      <td>BOS</td>\n",
       "      <td>Celtics</td>\n",
       "      <td>1946</td>\n",
       "      <td>Boston</td>\n",
       "      <td>TD Garden</td>\n",
       "      <td>18624.0</td>\n",
       "      <td>Wyc Grousbeck</td>\n",
       "      <td>Danny Ainge</td>\n",
       "      <td>Brad Stevens</td>\n",
       "      <td>Maine Red Claws</td>\n",
       "    </tr>\n",
       "    <tr>\n",
       "      <th>2</th>\n",
       "      <td>0</td>\n",
       "      <td>1610612740</td>\n",
       "      <td>2002</td>\n",
       "      <td>2019</td>\n",
       "      <td>NOP</td>\n",
       "      <td>Pelicans</td>\n",
       "      <td>2002</td>\n",
       "      <td>New Orleans</td>\n",
       "      <td>Smoothie King Center</td>\n",
       "      <td>NaN</td>\n",
       "      <td>Tom Benson</td>\n",
       "      <td>Trajan Langdon</td>\n",
       "      <td>Alvin Gentry</td>\n",
       "      <td>No Affiliate</td>\n",
       "    </tr>\n",
       "    <tr>\n",
       "      <th>3</th>\n",
       "      <td>0</td>\n",
       "      <td>1610612741</td>\n",
       "      <td>1966</td>\n",
       "      <td>2019</td>\n",
       "      <td>CHI</td>\n",
       "      <td>Bulls</td>\n",
       "      <td>1966</td>\n",
       "      <td>Chicago</td>\n",
       "      <td>United Center</td>\n",
       "      <td>21711.0</td>\n",
       "      <td>Jerry Reinsdorf</td>\n",
       "      <td>Gar Forman</td>\n",
       "      <td>Jim Boylen</td>\n",
       "      <td>Windy City Bulls</td>\n",
       "    </tr>\n",
       "    <tr>\n",
       "      <th>4</th>\n",
       "      <td>0</td>\n",
       "      <td>1610612742</td>\n",
       "      <td>1980</td>\n",
       "      <td>2019</td>\n",
       "      <td>DAL</td>\n",
       "      <td>Mavericks</td>\n",
       "      <td>1980</td>\n",
       "      <td>Dallas</td>\n",
       "      <td>American Airlines Center</td>\n",
       "      <td>19200.0</td>\n",
       "      <td>Mark Cuban</td>\n",
       "      <td>Donnie Nelson</td>\n",
       "      <td>Rick Carlisle</td>\n",
       "      <td>Texas Legends</td>\n",
       "    </tr>\n",
       "  </tbody>\n",
       "</table>\n",
       "</div>"
      ],
      "text/plain": [
       "   LEAGUE_ID     TEAM_ID  MIN_YEAR  MAX_YEAR ABBREVIATION   NICKNAME  \\\n",
       "0          0  1610612737      1949      2019          ATL      Hawks   \n",
       "1          0  1610612738      1946      2019          BOS    Celtics   \n",
       "2          0  1610612740      2002      2019          NOP   Pelicans   \n",
       "3          0  1610612741      1966      2019          CHI      Bulls   \n",
       "4          0  1610612742      1980      2019          DAL  Mavericks   \n",
       "\n",
       "   YEARFOUNDED         CITY                     ARENA  ARENACAPACITY  \\\n",
       "0         1949      Atlanta          State Farm Arena        18729.0   \n",
       "1         1946       Boston                 TD Garden        18624.0   \n",
       "2         2002  New Orleans      Smoothie King Center            NaN   \n",
       "3         1966      Chicago             United Center        21711.0   \n",
       "4         1980       Dallas  American Airlines Center        19200.0   \n",
       "\n",
       "             OWNER  GENERALMANAGER      HEADCOACH DLEAGUEAFFILIATION  \n",
       "0     Tony Ressler  Travis Schlenk   Lloyd Pierce      Erie Bayhawks  \n",
       "1    Wyc Grousbeck     Danny Ainge   Brad Stevens    Maine Red Claws  \n",
       "2       Tom Benson  Trajan Langdon   Alvin Gentry       No Affiliate  \n",
       "3  Jerry Reinsdorf      Gar Forman     Jim Boylen   Windy City Bulls  \n",
       "4       Mark Cuban   Donnie Nelson  Rick Carlisle      Texas Legends  "
      ]
     },
     "execution_count": 126,
     "metadata": {},
     "output_type": "execute_result"
    }
   ],
   "source": [
    "teams=pd.read_csv('teams.csv')\n",
    "teams.head()"
   ]
  },
  {
   "cell_type": "code",
   "execution_count": 127,
   "id": "3546e6e1-6fdd-4b80-b8f6-80924d18cb12",
   "metadata": {
    "tags": []
   },
   "outputs": [],
   "source": [
    "#Inspect columns of teams dataframe"
   ]
  },
  {
   "cell_type": "code",
   "execution_count": 128,
   "id": "71e0364f-822a-4d55-b4f7-866e09d88dae",
   "metadata": {
    "tags": []
   },
   "outputs": [
    {
     "data": {
      "text/plain": [
       "Index(['LEAGUE_ID', 'TEAM_ID', 'MIN_YEAR', 'MAX_YEAR', 'ABBREVIATION',\n",
       "       'NICKNAME', 'YEARFOUNDED', 'CITY', 'ARENA', 'ARENACAPACITY', 'OWNER',\n",
       "       'GENERALMANAGER', 'HEADCOACH', 'DLEAGUEAFFILIATION'],\n",
       "      dtype='object')"
      ]
     },
     "execution_count": 128,
     "metadata": {},
     "output_type": "execute_result"
    }
   ],
   "source": [
    "teams.columns"
   ]
  },
  {
   "cell_type": "code",
   "execution_count": 129,
   "id": "68f40e55-7965-4760-acd8-0e6441c060de",
   "metadata": {
    "tags": []
   },
   "outputs": [],
   "source": [
    "#Reassign teams as a subset of only columns desired and look at first 5 rows"
   ]
  },
  {
   "cell_type": "code",
   "execution_count": 130,
   "id": "b95487db-0f1c-400e-b7a9-bd238b8742a6",
   "metadata": {
    "tags": []
   },
   "outputs": [
    {
     "data": {
      "text/html": [
       "<div>\n",
       "<style scoped>\n",
       "    .dataframe tbody tr th:only-of-type {\n",
       "        vertical-align: middle;\n",
       "    }\n",
       "\n",
       "    .dataframe tbody tr th {\n",
       "        vertical-align: top;\n",
       "    }\n",
       "\n",
       "    .dataframe thead th {\n",
       "        text-align: right;\n",
       "    }\n",
       "</style>\n",
       "<table border=\"1\" class=\"dataframe\">\n",
       "  <thead>\n",
       "    <tr style=\"text-align: right;\">\n",
       "      <th></th>\n",
       "      <th>TEAM_ID</th>\n",
       "      <th>CITY</th>\n",
       "      <th>NICKNAME</th>\n",
       "    </tr>\n",
       "  </thead>\n",
       "  <tbody>\n",
       "    <tr>\n",
       "      <th>0</th>\n",
       "      <td>1610612737</td>\n",
       "      <td>Atlanta</td>\n",
       "      <td>Hawks</td>\n",
       "    </tr>\n",
       "    <tr>\n",
       "      <th>1</th>\n",
       "      <td>1610612738</td>\n",
       "      <td>Boston</td>\n",
       "      <td>Celtics</td>\n",
       "    </tr>\n",
       "    <tr>\n",
       "      <th>2</th>\n",
       "      <td>1610612740</td>\n",
       "      <td>New Orleans</td>\n",
       "      <td>Pelicans</td>\n",
       "    </tr>\n",
       "    <tr>\n",
       "      <th>3</th>\n",
       "      <td>1610612741</td>\n",
       "      <td>Chicago</td>\n",
       "      <td>Bulls</td>\n",
       "    </tr>\n",
       "    <tr>\n",
       "      <th>4</th>\n",
       "      <td>1610612742</td>\n",
       "      <td>Dallas</td>\n",
       "      <td>Mavericks</td>\n",
       "    </tr>\n",
       "  </tbody>\n",
       "</table>\n",
       "</div>"
      ],
      "text/plain": [
       "      TEAM_ID         CITY   NICKNAME\n",
       "0  1610612737      Atlanta      Hawks\n",
       "1  1610612738       Boston    Celtics\n",
       "2  1610612740  New Orleans   Pelicans\n",
       "3  1610612741      Chicago      Bulls\n",
       "4  1610612742       Dallas  Mavericks"
      ]
     },
     "execution_count": 130,
     "metadata": {},
     "output_type": "execute_result"
    }
   ],
   "source": [
    "teams=teams[['TEAM_ID','CITY','NICKNAME']]\n",
    "teams.head()"
   ]
  },
  {
   "cell_type": "code",
   "execution_count": 131,
   "id": "ade0f280-d3f3-4d33-8708-5d3da271bc8d",
   "metadata": {
    "tags": []
   },
   "outputs": [],
   "source": [
    "#Inspect new teams dataframe columns"
   ]
  },
  {
   "cell_type": "code",
   "execution_count": 132,
   "id": "99ca862c-905e-4282-afc5-8f747aca4073",
   "metadata": {
    "tags": []
   },
   "outputs": [
    {
     "name": "stdout",
     "output_type": "stream",
     "text": [
      "<class 'pandas.core.frame.DataFrame'>\n",
      "RangeIndex: 30 entries, 0 to 29\n",
      "Data columns (total 3 columns):\n",
      " #   Column    Non-Null Count  Dtype \n",
      "---  ------    --------------  ----- \n",
      " 0   TEAM_ID   30 non-null     int64 \n",
      " 1   CITY      30 non-null     object\n",
      " 2   NICKNAME  30 non-null     object\n",
      "dtypes: int64(1), object(2)\n",
      "memory usage: 852.0+ bytes\n"
     ]
    }
   ],
   "source": [
    "teams.info()"
   ]
  },
  {
   "cell_type": "code",
   "execution_count": 133,
   "id": "45130183-22d7-414a-9b1e-54b219531c89",
   "metadata": {
    "tags": []
   },
   "outputs": [],
   "source": [
    "#Convert columns CITY and NICKNAME to string datatype"
   ]
  },
  {
   "cell_type": "code",
   "execution_count": 134,
   "id": "6c243465-d81a-412d-ba20-c026f021120b",
   "metadata": {
    "tags": []
   },
   "outputs": [],
   "source": [
    "teams=teams.astype({'CITY':'string','NICKNAME':'string'})"
   ]
  },
  {
   "cell_type": "code",
   "execution_count": 135,
   "id": "df4d72e5-ec19-4d80-bad3-8751eb29f6d6",
   "metadata": {
    "tags": []
   },
   "outputs": [],
   "source": [
    "#Ensure changes to dataframe have been done correctly"
   ]
  },
  {
   "cell_type": "code",
   "execution_count": 136,
   "id": "16a71413-766e-4d14-a2a2-006a199ae82c",
   "metadata": {
    "tags": []
   },
   "outputs": [
    {
     "data": {
      "text/plain": [
       "TEAM_ID              int64\n",
       "CITY        string[python]\n",
       "NICKNAME    string[python]\n",
       "dtype: object"
      ]
     },
     "execution_count": 136,
     "metadata": {},
     "output_type": "execute_result"
    }
   ],
   "source": [
    "teams.dtypes"
   ]
  },
  {
   "cell_type": "code",
   "execution_count": 137,
   "id": "f828f28e-a313-4a8f-bd7e-45cfe4630b51",
   "metadata": {
    "tags": []
   },
   "outputs": [],
   "source": [
    "#View first two rows of each dataframe, teams and games"
   ]
  },
  {
   "cell_type": "code",
   "execution_count": 138,
   "id": "4c28c13a-7bf7-4614-ae9c-cd55b35f33cc",
   "metadata": {
    "tags": []
   },
   "outputs": [
    {
     "data": {
      "text/html": [
       "<div>\n",
       "<style scoped>\n",
       "    .dataframe tbody tr th:only-of-type {\n",
       "        vertical-align: middle;\n",
       "    }\n",
       "\n",
       "    .dataframe tbody tr th {\n",
       "        vertical-align: top;\n",
       "    }\n",
       "\n",
       "    .dataframe thead th {\n",
       "        text-align: right;\n",
       "    }\n",
       "</style>\n",
       "<table border=\"1\" class=\"dataframe\">\n",
       "  <thead>\n",
       "    <tr style=\"text-align: right;\">\n",
       "      <th></th>\n",
       "      <th>GAME_DATE</th>\n",
       "      <th>GAME_STATUS_TEXT</th>\n",
       "      <th>TEAM_ID_home</th>\n",
       "      <th>TEAM_ID_away</th>\n",
       "      <th>POINTS_home</th>\n",
       "      <th>POINTS_away</th>\n",
       "      <th>HOME_TEAM_WINS</th>\n",
       "    </tr>\n",
       "  </thead>\n",
       "  <tbody>\n",
       "    <tr>\n",
       "      <th>0</th>\n",
       "      <td>2020-12-19</td>\n",
       "      <td>Final</td>\n",
       "      <td>1610612753</td>\n",
       "      <td>1610612766</td>\n",
       "      <td>120</td>\n",
       "      <td>117</td>\n",
       "      <td>1</td>\n",
       "    </tr>\n",
       "    <tr>\n",
       "      <th>1</th>\n",
       "      <td>2020-12-19</td>\n",
       "      <td>Final</td>\n",
       "      <td>1610612764</td>\n",
       "      <td>1610612765</td>\n",
       "      <td>99</td>\n",
       "      <td>96</td>\n",
       "      <td>1</td>\n",
       "    </tr>\n",
       "  </tbody>\n",
       "</table>\n",
       "</div>"
      ],
      "text/plain": [
       "   GAME_DATE GAME_STATUS_TEXT  TEAM_ID_home  TEAM_ID_away  POINTS_home  \\\n",
       "0 2020-12-19            Final    1610612753    1610612766          120   \n",
       "1 2020-12-19            Final    1610612764    1610612765           99   \n",
       "\n",
       "   POINTS_away  HOME_TEAM_WINS  \n",
       "0          117               1  \n",
       "1           96               1  "
      ]
     },
     "execution_count": 138,
     "metadata": {},
     "output_type": "execute_result"
    }
   ],
   "source": [
    "games.head(2)"
   ]
  },
  {
   "cell_type": "code",
   "execution_count": 139,
   "id": "5e380611-b0c4-4f13-8d21-c7c03255a06b",
   "metadata": {
    "tags": []
   },
   "outputs": [
    {
     "data": {
      "text/html": [
       "<div>\n",
       "<style scoped>\n",
       "    .dataframe tbody tr th:only-of-type {\n",
       "        vertical-align: middle;\n",
       "    }\n",
       "\n",
       "    .dataframe tbody tr th {\n",
       "        vertical-align: top;\n",
       "    }\n",
       "\n",
       "    .dataframe thead th {\n",
       "        text-align: right;\n",
       "    }\n",
       "</style>\n",
       "<table border=\"1\" class=\"dataframe\">\n",
       "  <thead>\n",
       "    <tr style=\"text-align: right;\">\n",
       "      <th></th>\n",
       "      <th>TEAM_ID</th>\n",
       "      <th>CITY</th>\n",
       "      <th>NICKNAME</th>\n",
       "    </tr>\n",
       "  </thead>\n",
       "  <tbody>\n",
       "    <tr>\n",
       "      <th>0</th>\n",
       "      <td>1610612737</td>\n",
       "      <td>Atlanta</td>\n",
       "      <td>Hawks</td>\n",
       "    </tr>\n",
       "    <tr>\n",
       "      <th>1</th>\n",
       "      <td>1610612738</td>\n",
       "      <td>Boston</td>\n",
       "      <td>Celtics</td>\n",
       "    </tr>\n",
       "  </tbody>\n",
       "</table>\n",
       "</div>"
      ],
      "text/plain": [
       "      TEAM_ID     CITY NICKNAME\n",
       "0  1610612737  Atlanta    Hawks\n",
       "1  1610612738   Boston  Celtics"
      ]
     },
     "execution_count": 139,
     "metadata": {},
     "output_type": "execute_result"
    }
   ],
   "source": [
    "teams.head(2)"
   ]
  },
  {
   "cell_type": "code",
   "execution_count": 140,
   "id": "018c7901-1225-4809-9935-6ac0ff973a28",
   "metadata": {
    "tags": []
   },
   "outputs": [],
   "source": [
    "#Inner merge games and teams using team ID's and home team IDs to obtain new dataframe of games with home team"
   ]
  },
  {
   "cell_type": "code",
   "execution_count": 141,
   "id": "5319ebe6-db21-4856-a91a-cd36901605cb",
   "metadata": {
    "tags": []
   },
   "outputs": [],
   "source": [
    "games_with_home_team=pd.merge(games,teams,left_on='TEAM_ID_home',right_on='TEAM_ID',how='inner')"
   ]
  },
  {
   "cell_type": "code",
   "execution_count": 142,
   "id": "d2af606d-89ab-4685-b733-d67657cb443a",
   "metadata": {
    "tags": []
   },
   "outputs": [],
   "source": [
    "#Ensure merge was done correctly"
   ]
  },
  {
   "cell_type": "code",
   "execution_count": 143,
   "id": "b5c206dd-09c2-4394-bb8a-3bfe795c7652",
   "metadata": {
    "tags": []
   },
   "outputs": [
    {
     "data": {
      "text/html": [
       "<div>\n",
       "<style scoped>\n",
       "    .dataframe tbody tr th:only-of-type {\n",
       "        vertical-align: middle;\n",
       "    }\n",
       "\n",
       "    .dataframe tbody tr th {\n",
       "        vertical-align: top;\n",
       "    }\n",
       "\n",
       "    .dataframe thead th {\n",
       "        text-align: right;\n",
       "    }\n",
       "</style>\n",
       "<table border=\"1\" class=\"dataframe\">\n",
       "  <thead>\n",
       "    <tr style=\"text-align: right;\">\n",
       "      <th></th>\n",
       "      <th>GAME_DATE</th>\n",
       "      <th>GAME_STATUS_TEXT</th>\n",
       "      <th>TEAM_ID_home</th>\n",
       "      <th>TEAM_ID_away</th>\n",
       "      <th>POINTS_home</th>\n",
       "      <th>POINTS_away</th>\n",
       "      <th>HOME_TEAM_WINS</th>\n",
       "      <th>TEAM_ID</th>\n",
       "      <th>CITY</th>\n",
       "      <th>NICKNAME</th>\n",
       "    </tr>\n",
       "  </thead>\n",
       "  <tbody>\n",
       "    <tr>\n",
       "      <th>0</th>\n",
       "      <td>2020-12-19</td>\n",
       "      <td>Final</td>\n",
       "      <td>1610612753</td>\n",
       "      <td>1610612766</td>\n",
       "      <td>120</td>\n",
       "      <td>117</td>\n",
       "      <td>1</td>\n",
       "      <td>1610612753</td>\n",
       "      <td>Orlando</td>\n",
       "      <td>Magic</td>\n",
       "    </tr>\n",
       "    <tr>\n",
       "      <th>1</th>\n",
       "      <td>2020-12-17</td>\n",
       "      <td>Final</td>\n",
       "      <td>1610612753</td>\n",
       "      <td>1610612766</td>\n",
       "      <td>115</td>\n",
       "      <td>123</td>\n",
       "      <td>0</td>\n",
       "      <td>1610612753</td>\n",
       "      <td>Orlando</td>\n",
       "      <td>Magic</td>\n",
       "    </tr>\n",
       "    <tr>\n",
       "      <th>2</th>\n",
       "      <td>2020-08-24</td>\n",
       "      <td>Final</td>\n",
       "      <td>1610612753</td>\n",
       "      <td>1610612749</td>\n",
       "      <td>106</td>\n",
       "      <td>121</td>\n",
       "      <td>0</td>\n",
       "      <td>1610612753</td>\n",
       "      <td>Orlando</td>\n",
       "      <td>Magic</td>\n",
       "    </tr>\n",
       "    <tr>\n",
       "      <th>3</th>\n",
       "      <td>2020-08-22</td>\n",
       "      <td>Final</td>\n",
       "      <td>1610612753</td>\n",
       "      <td>1610612749</td>\n",
       "      <td>107</td>\n",
       "      <td>121</td>\n",
       "      <td>0</td>\n",
       "      <td>1610612753</td>\n",
       "      <td>Orlando</td>\n",
       "      <td>Magic</td>\n",
       "    </tr>\n",
       "    <tr>\n",
       "      <th>4</th>\n",
       "      <td>2020-08-13</td>\n",
       "      <td>Final</td>\n",
       "      <td>1610612753</td>\n",
       "      <td>1610612740</td>\n",
       "      <td>133</td>\n",
       "      <td>127</td>\n",
       "      <td>1</td>\n",
       "      <td>1610612753</td>\n",
       "      <td>Orlando</td>\n",
       "      <td>Magic</td>\n",
       "    </tr>\n",
       "  </tbody>\n",
       "</table>\n",
       "</div>"
      ],
      "text/plain": [
       "   GAME_DATE GAME_STATUS_TEXT  TEAM_ID_home  TEAM_ID_away  POINTS_home  \\\n",
       "0 2020-12-19            Final    1610612753    1610612766          120   \n",
       "1 2020-12-17            Final    1610612753    1610612766          115   \n",
       "2 2020-08-24            Final    1610612753    1610612749          106   \n",
       "3 2020-08-22            Final    1610612753    1610612749          107   \n",
       "4 2020-08-13            Final    1610612753    1610612740          133   \n",
       "\n",
       "   POINTS_away  HOME_TEAM_WINS     TEAM_ID     CITY NICKNAME  \n",
       "0          117               1  1610612753  Orlando    Magic  \n",
       "1          123               0  1610612753  Orlando    Magic  \n",
       "2          121               0  1610612753  Orlando    Magic  \n",
       "3          121               0  1610612753  Orlando    Magic  \n",
       "4          127               1  1610612753  Orlando    Magic  "
      ]
     },
     "execution_count": 143,
     "metadata": {},
     "output_type": "execute_result"
    }
   ],
   "source": [
    "games_with_home_team.head()"
   ]
  },
  {
   "cell_type": "code",
   "execution_count": 222,
   "id": "d7d75f10-8350-4081-beb7-195b67d4011a",
   "metadata": {
    "tags": []
   },
   "outputs": [],
   "source": [
    "#Rename columns of home teams for consistency with new dataframe"
   ]
  },
  {
   "cell_type": "code",
   "execution_count": 145,
   "id": "0aeb58c6-cb9f-4a1e-805f-731aa9ba9b2a",
   "metadata": {
    "tags": []
   },
   "outputs": [
    {
     "data": {
      "text/html": [
       "<div>\n",
       "<style scoped>\n",
       "    .dataframe tbody tr th:only-of-type {\n",
       "        vertical-align: middle;\n",
       "    }\n",
       "\n",
       "    .dataframe tbody tr th {\n",
       "        vertical-align: top;\n",
       "    }\n",
       "\n",
       "    .dataframe thead th {\n",
       "        text-align: right;\n",
       "    }\n",
       "</style>\n",
       "<table border=\"1\" class=\"dataframe\">\n",
       "  <thead>\n",
       "    <tr style=\"text-align: right;\">\n",
       "      <th></th>\n",
       "      <th>GAME_DATE</th>\n",
       "      <th>GAME_STATUS_TEXT</th>\n",
       "      <th>TEAM_ID_home</th>\n",
       "      <th>TEAM_ID_away</th>\n",
       "      <th>POINTS_home</th>\n",
       "      <th>POINTS_away</th>\n",
       "      <th>HOME_TEAM_WINS</th>\n",
       "      <th>TEAM_ID</th>\n",
       "      <th>city_home</th>\n",
       "      <th>nickname_home</th>\n",
       "    </tr>\n",
       "  </thead>\n",
       "  <tbody>\n",
       "    <tr>\n",
       "      <th>0</th>\n",
       "      <td>2020-12-19</td>\n",
       "      <td>Final</td>\n",
       "      <td>1610612753</td>\n",
       "      <td>1610612766</td>\n",
       "      <td>120</td>\n",
       "      <td>117</td>\n",
       "      <td>1</td>\n",
       "      <td>1610612753</td>\n",
       "      <td>Orlando</td>\n",
       "      <td>Magic</td>\n",
       "    </tr>\n",
       "    <tr>\n",
       "      <th>1</th>\n",
       "      <td>2020-12-17</td>\n",
       "      <td>Final</td>\n",
       "      <td>1610612753</td>\n",
       "      <td>1610612766</td>\n",
       "      <td>115</td>\n",
       "      <td>123</td>\n",
       "      <td>0</td>\n",
       "      <td>1610612753</td>\n",
       "      <td>Orlando</td>\n",
       "      <td>Magic</td>\n",
       "    </tr>\n",
       "    <tr>\n",
       "      <th>2</th>\n",
       "      <td>2020-08-24</td>\n",
       "      <td>Final</td>\n",
       "      <td>1610612753</td>\n",
       "      <td>1610612749</td>\n",
       "      <td>106</td>\n",
       "      <td>121</td>\n",
       "      <td>0</td>\n",
       "      <td>1610612753</td>\n",
       "      <td>Orlando</td>\n",
       "      <td>Magic</td>\n",
       "    </tr>\n",
       "    <tr>\n",
       "      <th>3</th>\n",
       "      <td>2020-08-22</td>\n",
       "      <td>Final</td>\n",
       "      <td>1610612753</td>\n",
       "      <td>1610612749</td>\n",
       "      <td>107</td>\n",
       "      <td>121</td>\n",
       "      <td>0</td>\n",
       "      <td>1610612753</td>\n",
       "      <td>Orlando</td>\n",
       "      <td>Magic</td>\n",
       "    </tr>\n",
       "    <tr>\n",
       "      <th>4</th>\n",
       "      <td>2020-08-13</td>\n",
       "      <td>Final</td>\n",
       "      <td>1610612753</td>\n",
       "      <td>1610612740</td>\n",
       "      <td>133</td>\n",
       "      <td>127</td>\n",
       "      <td>1</td>\n",
       "      <td>1610612753</td>\n",
       "      <td>Orlando</td>\n",
       "      <td>Magic</td>\n",
       "    </tr>\n",
       "  </tbody>\n",
       "</table>\n",
       "</div>"
      ],
      "text/plain": [
       "   GAME_DATE GAME_STATUS_TEXT  TEAM_ID_home  TEAM_ID_away  POINTS_home  \\\n",
       "0 2020-12-19            Final    1610612753    1610612766          120   \n",
       "1 2020-12-17            Final    1610612753    1610612766          115   \n",
       "2 2020-08-24            Final    1610612753    1610612749          106   \n",
       "3 2020-08-22            Final    1610612753    1610612749          107   \n",
       "4 2020-08-13            Final    1610612753    1610612740          133   \n",
       "\n",
       "   POINTS_away  HOME_TEAM_WINS     TEAM_ID city_home nickname_home  \n",
       "0          117               1  1610612753   Orlando         Magic  \n",
       "1          123               0  1610612753   Orlando         Magic  \n",
       "2          121               0  1610612753   Orlando         Magic  \n",
       "3          121               0  1610612753   Orlando         Magic  \n",
       "4          127               1  1610612753   Orlando         Magic  "
      ]
     },
     "execution_count": 145,
     "metadata": {},
     "output_type": "execute_result"
    }
   ],
   "source": [
    "games_with_home_team=games_with_home_team.rename(columns={'CITY':'city_home','NICKNAME':'nickname_home'})\n",
    "games_with_home_team.head()"
   ]
  },
  {
   "cell_type": "code",
   "execution_count": 146,
   "id": "95ef8927-733b-44b8-a6ef-04937e671b35",
   "metadata": {
    "tags": []
   },
   "outputs": [],
   "source": [
    "#Merge games with home teams dataframe with teams dataframe using team IDs and away team IDs to obtain new dataframe games with both teams includes (home and away)"
   ]
  },
  {
   "cell_type": "code",
   "execution_count": 147,
   "id": "30002aa9-05ca-41c4-bfe3-07416f5d5717",
   "metadata": {
    "tags": []
   },
   "outputs": [],
   "source": [
    "games_with_both_teams=pd.merge(games_with_home_team,teams,left_on='TEAM_ID_away',right_on='TEAM_ID',how='inner')"
   ]
  },
  {
   "cell_type": "code",
   "execution_count": 148,
   "id": "9bedecb0-7208-4623-8ae6-4e7179db0ad0",
   "metadata": {
    "tags": []
   },
   "outputs": [],
   "source": [
    "#Inspect new dataframe with both home and away teams and ensure merge was done correctly"
   ]
  },
  {
   "cell_type": "code",
   "execution_count": 149,
   "id": "ee40f0b4-386e-4292-b59b-d8b57fd52828",
   "metadata": {
    "tags": []
   },
   "outputs": [
    {
     "data": {
      "text/html": [
       "<div>\n",
       "<style scoped>\n",
       "    .dataframe tbody tr th:only-of-type {\n",
       "        vertical-align: middle;\n",
       "    }\n",
       "\n",
       "    .dataframe tbody tr th {\n",
       "        vertical-align: top;\n",
       "    }\n",
       "\n",
       "    .dataframe thead th {\n",
       "        text-align: right;\n",
       "    }\n",
       "</style>\n",
       "<table border=\"1\" class=\"dataframe\">\n",
       "  <thead>\n",
       "    <tr style=\"text-align: right;\">\n",
       "      <th></th>\n",
       "      <th>GAME_DATE</th>\n",
       "      <th>GAME_STATUS_TEXT</th>\n",
       "      <th>TEAM_ID_home</th>\n",
       "      <th>TEAM_ID_away</th>\n",
       "      <th>POINTS_home</th>\n",
       "      <th>POINTS_away</th>\n",
       "      <th>HOME_TEAM_WINS</th>\n",
       "      <th>TEAM_ID_x</th>\n",
       "      <th>city_home</th>\n",
       "      <th>nickname_home</th>\n",
       "      <th>TEAM_ID_y</th>\n",
       "      <th>CITY</th>\n",
       "      <th>NICKNAME</th>\n",
       "    </tr>\n",
       "  </thead>\n",
       "  <tbody>\n",
       "    <tr>\n",
       "      <th>0</th>\n",
       "      <td>2020-12-19</td>\n",
       "      <td>Final</td>\n",
       "      <td>1610612753</td>\n",
       "      <td>1610612766</td>\n",
       "      <td>120</td>\n",
       "      <td>117</td>\n",
       "      <td>1</td>\n",
       "      <td>1610612753</td>\n",
       "      <td>Orlando</td>\n",
       "      <td>Magic</td>\n",
       "      <td>1610612766</td>\n",
       "      <td>Charlotte</td>\n",
       "      <td>Hornets</td>\n",
       "    </tr>\n",
       "    <tr>\n",
       "      <th>1</th>\n",
       "      <td>2020-12-17</td>\n",
       "      <td>Final</td>\n",
       "      <td>1610612753</td>\n",
       "      <td>1610612766</td>\n",
       "      <td>115</td>\n",
       "      <td>123</td>\n",
       "      <td>0</td>\n",
       "      <td>1610612753</td>\n",
       "      <td>Orlando</td>\n",
       "      <td>Magic</td>\n",
       "      <td>1610612766</td>\n",
       "      <td>Charlotte</td>\n",
       "      <td>Hornets</td>\n",
       "    </tr>\n",
       "  </tbody>\n",
       "</table>\n",
       "</div>"
      ],
      "text/plain": [
       "   GAME_DATE GAME_STATUS_TEXT  TEAM_ID_home  TEAM_ID_away  POINTS_home  \\\n",
       "0 2020-12-19            Final    1610612753    1610612766          120   \n",
       "1 2020-12-17            Final    1610612753    1610612766          115   \n",
       "\n",
       "   POINTS_away  HOME_TEAM_WINS   TEAM_ID_x city_home nickname_home  \\\n",
       "0          117               1  1610612753   Orlando         Magic   \n",
       "1          123               0  1610612753   Orlando         Magic   \n",
       "\n",
       "    TEAM_ID_y       CITY NICKNAME  \n",
       "0  1610612766  Charlotte  Hornets  \n",
       "1  1610612766  Charlotte  Hornets  "
      ]
     },
     "execution_count": 149,
     "metadata": {},
     "output_type": "execute_result"
    }
   ],
   "source": [
    "games_with_both_teams.head(2)"
   ]
  },
  {
   "cell_type": "code",
   "execution_count": 150,
   "id": "69bea8af-16b3-4c44-8f1c-1c9237ee9caf",
   "metadata": {
    "tags": []
   },
   "outputs": [],
   "source": [
    "#Rename columns of away teams for consistency with new dataframe"
   ]
  },
  {
   "cell_type": "code",
   "execution_count": 151,
   "id": "1458a445-61b7-4435-a7b4-62faf118822e",
   "metadata": {
    "tags": []
   },
   "outputs": [],
   "source": [
    "games_with_both_teams=games_with_both_teams.rename(columns={'CITY':'city_away','NICKNAME':'nickname_away'})"
   ]
  },
  {
   "cell_type": "code",
   "execution_count": 152,
   "id": "689d63c3-011e-490b-8a98-a8adc93c4970",
   "metadata": {
    "tags": []
   },
   "outputs": [],
   "source": [
    "#Inspect dataframe to ensure changes to column names has been done correctly"
   ]
  },
  {
   "cell_type": "code",
   "execution_count": 153,
   "id": "d39e5ff9-c4ed-48c0-aa96-210b29172046",
   "metadata": {
    "tags": []
   },
   "outputs": [
    {
     "data": {
      "text/html": [
       "<div>\n",
       "<style scoped>\n",
       "    .dataframe tbody tr th:only-of-type {\n",
       "        vertical-align: middle;\n",
       "    }\n",
       "\n",
       "    .dataframe tbody tr th {\n",
       "        vertical-align: top;\n",
       "    }\n",
       "\n",
       "    .dataframe thead th {\n",
       "        text-align: right;\n",
       "    }\n",
       "</style>\n",
       "<table border=\"1\" class=\"dataframe\">\n",
       "  <thead>\n",
       "    <tr style=\"text-align: right;\">\n",
       "      <th></th>\n",
       "      <th>GAME_DATE</th>\n",
       "      <th>GAME_STATUS_TEXT</th>\n",
       "      <th>TEAM_ID_home</th>\n",
       "      <th>TEAM_ID_away</th>\n",
       "      <th>POINTS_home</th>\n",
       "      <th>POINTS_away</th>\n",
       "      <th>HOME_TEAM_WINS</th>\n",
       "      <th>TEAM_ID_x</th>\n",
       "      <th>city_home</th>\n",
       "      <th>nickname_home</th>\n",
       "      <th>TEAM_ID_y</th>\n",
       "      <th>city_away</th>\n",
       "      <th>nickname_away</th>\n",
       "    </tr>\n",
       "  </thead>\n",
       "  <tbody>\n",
       "    <tr>\n",
       "      <th>0</th>\n",
       "      <td>2020-12-19</td>\n",
       "      <td>Final</td>\n",
       "      <td>1610612753</td>\n",
       "      <td>1610612766</td>\n",
       "      <td>120</td>\n",
       "      <td>117</td>\n",
       "      <td>1</td>\n",
       "      <td>1610612753</td>\n",
       "      <td>Orlando</td>\n",
       "      <td>Magic</td>\n",
       "      <td>1610612766</td>\n",
       "      <td>Charlotte</td>\n",
       "      <td>Hornets</td>\n",
       "    </tr>\n",
       "    <tr>\n",
       "      <th>1</th>\n",
       "      <td>2020-12-17</td>\n",
       "      <td>Final</td>\n",
       "      <td>1610612753</td>\n",
       "      <td>1610612766</td>\n",
       "      <td>115</td>\n",
       "      <td>123</td>\n",
       "      <td>0</td>\n",
       "      <td>1610612753</td>\n",
       "      <td>Orlando</td>\n",
       "      <td>Magic</td>\n",
       "      <td>1610612766</td>\n",
       "      <td>Charlotte</td>\n",
       "      <td>Hornets</td>\n",
       "    </tr>\n",
       "    <tr>\n",
       "      <th>2</th>\n",
       "      <td>2014-03-28</td>\n",
       "      <td>Final</td>\n",
       "      <td>1610612753</td>\n",
       "      <td>1610612766</td>\n",
       "      <td>110</td>\n",
       "      <td>105</td>\n",
       "      <td>1</td>\n",
       "      <td>1610612753</td>\n",
       "      <td>Orlando</td>\n",
       "      <td>Magic</td>\n",
       "      <td>1610612766</td>\n",
       "      <td>Charlotte</td>\n",
       "      <td>Hornets</td>\n",
       "    </tr>\n",
       "    <tr>\n",
       "      <th>3</th>\n",
       "      <td>2014-01-17</td>\n",
       "      <td>Final</td>\n",
       "      <td>1610612753</td>\n",
       "      <td>1610612766</td>\n",
       "      <td>101</td>\n",
       "      <td>111</td>\n",
       "      <td>0</td>\n",
       "      <td>1610612753</td>\n",
       "      <td>Orlando</td>\n",
       "      <td>Magic</td>\n",
       "      <td>1610612766</td>\n",
       "      <td>Charlotte</td>\n",
       "      <td>Hornets</td>\n",
       "    </tr>\n",
       "    <tr>\n",
       "      <th>4</th>\n",
       "      <td>2013-02-19</td>\n",
       "      <td>Final</td>\n",
       "      <td>1610612753</td>\n",
       "      <td>1610612766</td>\n",
       "      <td>92</td>\n",
       "      <td>105</td>\n",
       "      <td>0</td>\n",
       "      <td>1610612753</td>\n",
       "      <td>Orlando</td>\n",
       "      <td>Magic</td>\n",
       "      <td>1610612766</td>\n",
       "      <td>Charlotte</td>\n",
       "      <td>Hornets</td>\n",
       "    </tr>\n",
       "  </tbody>\n",
       "</table>\n",
       "</div>"
      ],
      "text/plain": [
       "   GAME_DATE GAME_STATUS_TEXT  TEAM_ID_home  TEAM_ID_away  POINTS_home  \\\n",
       "0 2020-12-19            Final    1610612753    1610612766          120   \n",
       "1 2020-12-17            Final    1610612753    1610612766          115   \n",
       "2 2014-03-28            Final    1610612753    1610612766          110   \n",
       "3 2014-01-17            Final    1610612753    1610612766          101   \n",
       "4 2013-02-19            Final    1610612753    1610612766           92   \n",
       "\n",
       "   POINTS_away  HOME_TEAM_WINS   TEAM_ID_x city_home nickname_home  \\\n",
       "0          117               1  1610612753   Orlando         Magic   \n",
       "1          123               0  1610612753   Orlando         Magic   \n",
       "2          105               1  1610612753   Orlando         Magic   \n",
       "3          111               0  1610612753   Orlando         Magic   \n",
       "4          105               0  1610612753   Orlando         Magic   \n",
       "\n",
       "    TEAM_ID_y  city_away nickname_away  \n",
       "0  1610612766  Charlotte       Hornets  \n",
       "1  1610612766  Charlotte       Hornets  \n",
       "2  1610612766  Charlotte       Hornets  \n",
       "3  1610612766  Charlotte       Hornets  \n",
       "4  1610612766  Charlotte       Hornets  "
      ]
     },
     "execution_count": 153,
     "metadata": {},
     "output_type": "execute_result"
    }
   ],
   "source": [
    "games_with_both_teams.head()"
   ]
  },
  {
   "cell_type": "code",
   "execution_count": 154,
   "id": "8fc2dce8-193e-4310-bac8-c2d3fc9a12c9",
   "metadata": {
    "tags": []
   },
   "outputs": [],
   "source": [
    "#Drop redundant columns not needed after merges and inspect"
   ]
  },
  {
   "cell_type": "code",
   "execution_count": 155,
   "id": "f2e3a9c4-b4aa-4a3a-bcfe-69de9571bb6b",
   "metadata": {
    "tags": []
   },
   "outputs": [
    {
     "data": {
      "text/html": [
       "<div>\n",
       "<style scoped>\n",
       "    .dataframe tbody tr th:only-of-type {\n",
       "        vertical-align: middle;\n",
       "    }\n",
       "\n",
       "    .dataframe tbody tr th {\n",
       "        vertical-align: top;\n",
       "    }\n",
       "\n",
       "    .dataframe thead th {\n",
       "        text-align: right;\n",
       "    }\n",
       "</style>\n",
       "<table border=\"1\" class=\"dataframe\">\n",
       "  <thead>\n",
       "    <tr style=\"text-align: right;\">\n",
       "      <th></th>\n",
       "      <th>GAME_DATE</th>\n",
       "      <th>GAME_STATUS_TEXT</th>\n",
       "      <th>POINTS_home</th>\n",
       "      <th>POINTS_away</th>\n",
       "      <th>HOME_TEAM_WINS</th>\n",
       "      <th>city_home</th>\n",
       "      <th>nickname_home</th>\n",
       "      <th>city_away</th>\n",
       "      <th>nickname_away</th>\n",
       "    </tr>\n",
       "  </thead>\n",
       "  <tbody>\n",
       "    <tr>\n",
       "      <th>0</th>\n",
       "      <td>2020-12-19</td>\n",
       "      <td>Final</td>\n",
       "      <td>120</td>\n",
       "      <td>117</td>\n",
       "      <td>1</td>\n",
       "      <td>Orlando</td>\n",
       "      <td>Magic</td>\n",
       "      <td>Charlotte</td>\n",
       "      <td>Hornets</td>\n",
       "    </tr>\n",
       "    <tr>\n",
       "      <th>1</th>\n",
       "      <td>2020-12-17</td>\n",
       "      <td>Final</td>\n",
       "      <td>115</td>\n",
       "      <td>123</td>\n",
       "      <td>0</td>\n",
       "      <td>Orlando</td>\n",
       "      <td>Magic</td>\n",
       "      <td>Charlotte</td>\n",
       "      <td>Hornets</td>\n",
       "    </tr>\n",
       "    <tr>\n",
       "      <th>2</th>\n",
       "      <td>2014-03-28</td>\n",
       "      <td>Final</td>\n",
       "      <td>110</td>\n",
       "      <td>105</td>\n",
       "      <td>1</td>\n",
       "      <td>Orlando</td>\n",
       "      <td>Magic</td>\n",
       "      <td>Charlotte</td>\n",
       "      <td>Hornets</td>\n",
       "    </tr>\n",
       "    <tr>\n",
       "      <th>3</th>\n",
       "      <td>2014-01-17</td>\n",
       "      <td>Final</td>\n",
       "      <td>101</td>\n",
       "      <td>111</td>\n",
       "      <td>0</td>\n",
       "      <td>Orlando</td>\n",
       "      <td>Magic</td>\n",
       "      <td>Charlotte</td>\n",
       "      <td>Hornets</td>\n",
       "    </tr>\n",
       "    <tr>\n",
       "      <th>4</th>\n",
       "      <td>2013-02-19</td>\n",
       "      <td>Final</td>\n",
       "      <td>92</td>\n",
       "      <td>105</td>\n",
       "      <td>0</td>\n",
       "      <td>Orlando</td>\n",
       "      <td>Magic</td>\n",
       "      <td>Charlotte</td>\n",
       "      <td>Hornets</td>\n",
       "    </tr>\n",
       "  </tbody>\n",
       "</table>\n",
       "</div>"
      ],
      "text/plain": [
       "   GAME_DATE GAME_STATUS_TEXT  POINTS_home  POINTS_away  HOME_TEAM_WINS  \\\n",
       "0 2020-12-19            Final          120          117               1   \n",
       "1 2020-12-17            Final          115          123               0   \n",
       "2 2014-03-28            Final          110          105               1   \n",
       "3 2014-01-17            Final          101          111               0   \n",
       "4 2013-02-19            Final           92          105               0   \n",
       "\n",
       "  city_home nickname_home  city_away nickname_away  \n",
       "0   Orlando         Magic  Charlotte       Hornets  \n",
       "1   Orlando         Magic  Charlotte       Hornets  \n",
       "2   Orlando         Magic  Charlotte       Hornets  \n",
       "3   Orlando         Magic  Charlotte       Hornets  \n",
       "4   Orlando         Magic  Charlotte       Hornets  "
      ]
     },
     "execution_count": 155,
     "metadata": {},
     "output_type": "execute_result"
    }
   ],
   "source": [
    "games_with_both_teams = games_with_both_teams.drop(columns=['TEAM_ID_home', 'TEAM_ID_away', 'TEAM_ID_x', 'TEAM_ID_y'])\n",
    "games_with_both_teams.head()"
   ]
  },
  {
   "cell_type": "code",
   "execution_count": 156,
   "id": "5baa8d22-ddf0-455a-bba7-96f60678e96f",
   "metadata": {
    "tags": []
   },
   "outputs": [],
   "source": [
    "#Make a copy of games with both teams dataframe and name it games for further exploration/manipulation"
   ]
  },
  {
   "cell_type": "code",
   "execution_count": 157,
   "id": "212fab3f-d19b-4601-85cf-fa63f9a8fae6",
   "metadata": {
    "tags": []
   },
   "outputs": [],
   "source": [
    "games=games_with_both_teams.copy()"
   ]
  },
  {
   "cell_type": "code",
   "execution_count": 158,
   "id": "40b1392e-f38a-4b50-8856-a3ee620fe104",
   "metadata": {
    "tags": []
   },
   "outputs": [],
   "source": [
    "#Change columns names of games dataframe to all lowercase for ease and consistency"
   ]
  },
  {
   "cell_type": "code",
   "execution_count": 159,
   "id": "2bfcaeb4-adb3-44a4-af11-314cf7962633",
   "metadata": {
    "tags": []
   },
   "outputs": [],
   "source": [
    "games.columns=games.columns.str.lower()"
   ]
  },
  {
   "cell_type": "code",
   "execution_count": 160,
   "id": "c190513f-ed81-42e2-9fe3-10075119b7e6",
   "metadata": {
    "tags": []
   },
   "outputs": [],
   "source": [
    "#Verify changes to column names"
   ]
  },
  {
   "cell_type": "code",
   "execution_count": 161,
   "id": "747e87de-a173-4b82-803c-836eb67039fc",
   "metadata": {
    "tags": []
   },
   "outputs": [
    {
     "data": {
      "text/plain": [
       "Index(['game_date', 'game_status_text', 'points_home', 'points_away',\n",
       "       'home_team_wins', 'city_home', 'nickname_home', 'city_away',\n",
       "       'nickname_away'],\n",
       "      dtype='object')"
      ]
     },
     "execution_count": 161,
     "metadata": {},
     "output_type": "execute_result"
    }
   ],
   "source": [
    "games.columns"
   ]
  },
  {
   "cell_type": "code",
   "execution_count": 162,
   "id": "63154886-7d8d-4bc4-a924-f88f18f9c507",
   "metadata": {
    "tags": []
   },
   "outputs": [],
   "source": [
    "#Ensure copy did not effect original games with both teams dataframe"
   ]
  },
  {
   "cell_type": "code",
   "execution_count": 163,
   "id": "88711734-a0de-4fdd-b18a-c6c3c9b7cb70",
   "metadata": {
    "tags": []
   },
   "outputs": [
    {
     "data": {
      "text/plain": [
       "Index(['GAME_DATE', 'GAME_STATUS_TEXT', 'POINTS_home', 'POINTS_away',\n",
       "       'HOME_TEAM_WINS', 'city_home', 'nickname_home', 'city_away',\n",
       "       'nickname_away'],\n",
       "      dtype='object')"
      ]
     },
     "execution_count": 163,
     "metadata": {},
     "output_type": "execute_result"
    }
   ],
   "source": [
    "games_with_both_teams.columns"
   ]
  },
  {
   "cell_type": "code",
   "execution_count": 164,
   "id": "cec34179-79f5-4a97-b0e8-5399da576aee",
   "metadata": {
    "tags": []
   },
   "outputs": [],
   "source": [
    "#View dimensions of games dataframe"
   ]
  },
  {
   "cell_type": "code",
   "execution_count": 165,
   "id": "f9e41f57-553a-4f51-8768-e2965fcce312",
   "metadata": {
    "tags": []
   },
   "outputs": [
    {
     "data": {
      "text/plain": [
       "(23421, 9)"
      ]
     },
     "execution_count": 165,
     "metadata": {},
     "output_type": "execute_result"
    }
   ],
   "source": [
    "games.shape"
   ]
  },
  {
   "cell_type": "code",
   "execution_count": 166,
   "id": "28fa86ff-0150-4116-a175-f666e16a8b91",
   "metadata": {
    "tags": []
   },
   "outputs": [],
   "source": [
    "#Export games dataframe as a csv and inspect"
   ]
  },
  {
   "cell_type": "code",
   "execution_count": 167,
   "id": "e63c99aa-ae3d-49e0-9783-7a3273a63297",
   "metadata": {
    "tags": []
   },
   "outputs": [],
   "source": [
    "games.to_csv('games_transformed.csv',index=False)"
   ]
  },
  {
   "cell_type": "code",
   "execution_count": 168,
   "id": "73f6ca97-8eff-4044-9db0-984fe908b70f",
   "metadata": {
    "tags": []
   },
   "outputs": [],
   "source": [
    "#Select columns from games dataframe that are of number datatype"
   ]
  },
  {
   "cell_type": "code",
   "execution_count": 169,
   "id": "9e1e11bc-009c-4206-a126-af8a3d23d5bc",
   "metadata": {
    "tags": []
   },
   "outputs": [
    {
     "data": {
      "text/html": [
       "<div>\n",
       "<style scoped>\n",
       "    .dataframe tbody tr th:only-of-type {\n",
       "        vertical-align: middle;\n",
       "    }\n",
       "\n",
       "    .dataframe tbody tr th {\n",
       "        vertical-align: top;\n",
       "    }\n",
       "\n",
       "    .dataframe thead th {\n",
       "        text-align: right;\n",
       "    }\n",
       "</style>\n",
       "<table border=\"1\" class=\"dataframe\">\n",
       "  <thead>\n",
       "    <tr style=\"text-align: right;\">\n",
       "      <th></th>\n",
       "      <th>points_home</th>\n",
       "      <th>points_away</th>\n",
       "      <th>home_team_wins</th>\n",
       "    </tr>\n",
       "  </thead>\n",
       "  <tbody>\n",
       "    <tr>\n",
       "      <th>0</th>\n",
       "      <td>120</td>\n",
       "      <td>117</td>\n",
       "      <td>1</td>\n",
       "    </tr>\n",
       "    <tr>\n",
       "      <th>1</th>\n",
       "      <td>115</td>\n",
       "      <td>123</td>\n",
       "      <td>0</td>\n",
       "    </tr>\n",
       "    <tr>\n",
       "      <th>2</th>\n",
       "      <td>110</td>\n",
       "      <td>105</td>\n",
       "      <td>1</td>\n",
       "    </tr>\n",
       "    <tr>\n",
       "      <th>3</th>\n",
       "      <td>101</td>\n",
       "      <td>111</td>\n",
       "      <td>0</td>\n",
       "    </tr>\n",
       "    <tr>\n",
       "      <th>4</th>\n",
       "      <td>92</td>\n",
       "      <td>105</td>\n",
       "      <td>0</td>\n",
       "    </tr>\n",
       "    <tr>\n",
       "      <th>...</th>\n",
       "      <td>...</td>\n",
       "      <td>...</td>\n",
       "      <td>...</td>\n",
       "    </tr>\n",
       "    <tr>\n",
       "      <th>23416</th>\n",
       "      <td>116</td>\n",
       "      <td>110</td>\n",
       "      <td>1</td>\n",
       "    </tr>\n",
       "    <tr>\n",
       "      <th>23417</th>\n",
       "      <td>110</td>\n",
       "      <td>100</td>\n",
       "      <td>1</td>\n",
       "    </tr>\n",
       "    <tr>\n",
       "      <th>23418</th>\n",
       "      <td>122</td>\n",
       "      <td>92</td>\n",
       "      <td>1</td>\n",
       "    </tr>\n",
       "    <tr>\n",
       "      <th>23419</th>\n",
       "      <td>119</td>\n",
       "      <td>113</td>\n",
       "      <td>1</td>\n",
       "    </tr>\n",
       "    <tr>\n",
       "      <th>23420</th>\n",
       "      <td>98</td>\n",
       "      <td>97</td>\n",
       "      <td>1</td>\n",
       "    </tr>\n",
       "  </tbody>\n",
       "</table>\n",
       "<p>23421 rows × 3 columns</p>\n",
       "</div>"
      ],
      "text/plain": [
       "       points_home  points_away  home_team_wins\n",
       "0              120          117               1\n",
       "1              115          123               0\n",
       "2              110          105               1\n",
       "3              101          111               0\n",
       "4               92          105               0\n",
       "...            ...          ...             ...\n",
       "23416          116          110               1\n",
       "23417          110          100               1\n",
       "23418          122           92               1\n",
       "23419          119          113               1\n",
       "23420           98           97               1\n",
       "\n",
       "[23421 rows x 3 columns]"
      ]
     },
     "execution_count": 169,
     "metadata": {},
     "output_type": "execute_result"
    }
   ],
   "source": [
    "games.select_dtypes(include='number')"
   ]
  },
  {
   "cell_type": "code",
   "execution_count": 170,
   "id": "413b0e59-b8cf-4dd8-8788-936833b2b0d8",
   "metadata": {
    "tags": []
   },
   "outputs": [],
   "source": [
    "#Select columns from games dataframe that are not of number datatype"
   ]
  },
  {
   "cell_type": "code",
   "execution_count": 171,
   "id": "fb0b128a-10c3-4087-bacc-72105222a82f",
   "metadata": {
    "tags": []
   },
   "outputs": [
    {
     "data": {
      "text/html": [
       "<div>\n",
       "<style scoped>\n",
       "    .dataframe tbody tr th:only-of-type {\n",
       "        vertical-align: middle;\n",
       "    }\n",
       "\n",
       "    .dataframe tbody tr th {\n",
       "        vertical-align: top;\n",
       "    }\n",
       "\n",
       "    .dataframe thead th {\n",
       "        text-align: right;\n",
       "    }\n",
       "</style>\n",
       "<table border=\"1\" class=\"dataframe\">\n",
       "  <thead>\n",
       "    <tr style=\"text-align: right;\">\n",
       "      <th></th>\n",
       "      <th>game_date</th>\n",
       "      <th>game_status_text</th>\n",
       "      <th>city_home</th>\n",
       "      <th>nickname_home</th>\n",
       "      <th>city_away</th>\n",
       "      <th>nickname_away</th>\n",
       "    </tr>\n",
       "  </thead>\n",
       "  <tbody>\n",
       "    <tr>\n",
       "      <th>0</th>\n",
       "      <td>2020-12-19</td>\n",
       "      <td>Final</td>\n",
       "      <td>Orlando</td>\n",
       "      <td>Magic</td>\n",
       "      <td>Charlotte</td>\n",
       "      <td>Hornets</td>\n",
       "    </tr>\n",
       "    <tr>\n",
       "      <th>1</th>\n",
       "      <td>2020-12-17</td>\n",
       "      <td>Final</td>\n",
       "      <td>Orlando</td>\n",
       "      <td>Magic</td>\n",
       "      <td>Charlotte</td>\n",
       "      <td>Hornets</td>\n",
       "    </tr>\n",
       "    <tr>\n",
       "      <th>2</th>\n",
       "      <td>2014-03-28</td>\n",
       "      <td>Final</td>\n",
       "      <td>Orlando</td>\n",
       "      <td>Magic</td>\n",
       "      <td>Charlotte</td>\n",
       "      <td>Hornets</td>\n",
       "    </tr>\n",
       "    <tr>\n",
       "      <th>3</th>\n",
       "      <td>2014-01-17</td>\n",
       "      <td>Final</td>\n",
       "      <td>Orlando</td>\n",
       "      <td>Magic</td>\n",
       "      <td>Charlotte</td>\n",
       "      <td>Hornets</td>\n",
       "    </tr>\n",
       "    <tr>\n",
       "      <th>4</th>\n",
       "      <td>2013-02-19</td>\n",
       "      <td>Final</td>\n",
       "      <td>Orlando</td>\n",
       "      <td>Magic</td>\n",
       "      <td>Charlotte</td>\n",
       "      <td>Hornets</td>\n",
       "    </tr>\n",
       "    <tr>\n",
       "      <th>...</th>\n",
       "      <td>...</td>\n",
       "      <td>...</td>\n",
       "      <td>...</td>\n",
       "      <td>...</td>\n",
       "      <td>...</td>\n",
       "      <td>...</td>\n",
       "    </tr>\n",
       "    <tr>\n",
       "      <th>23416</th>\n",
       "      <td>2018-11-26</td>\n",
       "      <td>Final</td>\n",
       "      <td>Golden State</td>\n",
       "      <td>Warriors</td>\n",
       "      <td>Orlando</td>\n",
       "      <td>Magic</td>\n",
       "    </tr>\n",
       "    <tr>\n",
       "      <th>23417</th>\n",
       "      <td>2017-11-13</td>\n",
       "      <td>Final</td>\n",
       "      <td>Golden State</td>\n",
       "      <td>Warriors</td>\n",
       "      <td>Orlando</td>\n",
       "      <td>Magic</td>\n",
       "    </tr>\n",
       "    <tr>\n",
       "      <th>23418</th>\n",
       "      <td>2017-03-16</td>\n",
       "      <td>Final</td>\n",
       "      <td>Golden State</td>\n",
       "      <td>Warriors</td>\n",
       "      <td>Orlando</td>\n",
       "      <td>Magic</td>\n",
       "    </tr>\n",
       "    <tr>\n",
       "      <th>23419</th>\n",
       "      <td>2016-03-07</td>\n",
       "      <td>Final</td>\n",
       "      <td>Golden State</td>\n",
       "      <td>Warriors</td>\n",
       "      <td>Orlando</td>\n",
       "      <td>Magic</td>\n",
       "    </tr>\n",
       "    <tr>\n",
       "      <th>23420</th>\n",
       "      <td>2014-12-02</td>\n",
       "      <td>Final</td>\n",
       "      <td>Golden State</td>\n",
       "      <td>Warriors</td>\n",
       "      <td>Orlando</td>\n",
       "      <td>Magic</td>\n",
       "    </tr>\n",
       "  </tbody>\n",
       "</table>\n",
       "<p>23421 rows × 6 columns</p>\n",
       "</div>"
      ],
      "text/plain": [
       "       game_date game_status_text     city_home nickname_home  city_away  \\\n",
       "0     2020-12-19            Final       Orlando         Magic  Charlotte   \n",
       "1     2020-12-17            Final       Orlando         Magic  Charlotte   \n",
       "2     2014-03-28            Final       Orlando         Magic  Charlotte   \n",
       "3     2014-01-17            Final       Orlando         Magic  Charlotte   \n",
       "4     2013-02-19            Final       Orlando         Magic  Charlotte   \n",
       "...          ...              ...           ...           ...        ...   \n",
       "23416 2018-11-26            Final  Golden State      Warriors    Orlando   \n",
       "23417 2017-11-13            Final  Golden State      Warriors    Orlando   \n",
       "23418 2017-03-16            Final  Golden State      Warriors    Orlando   \n",
       "23419 2016-03-07            Final  Golden State      Warriors    Orlando   \n",
       "23420 2014-12-02            Final  Golden State      Warriors    Orlando   \n",
       "\n",
       "      nickname_away  \n",
       "0           Hornets  \n",
       "1           Hornets  \n",
       "2           Hornets  \n",
       "3           Hornets  \n",
       "4           Hornets  \n",
       "...             ...  \n",
       "23416         Magic  \n",
       "23417         Magic  \n",
       "23418         Magic  \n",
       "23419         Magic  \n",
       "23420         Magic  \n",
       "\n",
       "[23421 rows x 6 columns]"
      ]
     },
     "execution_count": 171,
     "metadata": {},
     "output_type": "execute_result"
    }
   ],
   "source": [
    "games.select_dtypes(exclude='number')"
   ]
  },
  {
   "cell_type": "code",
   "execution_count": 172,
   "id": "cd67bf77-8826-4197-8c51-4252941c0b0c",
   "metadata": {
    "tags": []
   },
   "outputs": [],
   "source": [
    "#Print out first five rows of games dataframe for reference moving forward"
   ]
  },
  {
   "cell_type": "code",
   "execution_count": 173,
   "id": "1def6e3b-d661-4064-9577-01b3439a7f10",
   "metadata": {
    "tags": []
   },
   "outputs": [
    {
     "data": {
      "text/html": [
       "<div>\n",
       "<style scoped>\n",
       "    .dataframe tbody tr th:only-of-type {\n",
       "        vertical-align: middle;\n",
       "    }\n",
       "\n",
       "    .dataframe tbody tr th {\n",
       "        vertical-align: top;\n",
       "    }\n",
       "\n",
       "    .dataframe thead th {\n",
       "        text-align: right;\n",
       "    }\n",
       "</style>\n",
       "<table border=\"1\" class=\"dataframe\">\n",
       "  <thead>\n",
       "    <tr style=\"text-align: right;\">\n",
       "      <th></th>\n",
       "      <th>game_date</th>\n",
       "      <th>game_status_text</th>\n",
       "      <th>points_home</th>\n",
       "      <th>points_away</th>\n",
       "      <th>home_team_wins</th>\n",
       "      <th>city_home</th>\n",
       "      <th>nickname_home</th>\n",
       "      <th>city_away</th>\n",
       "      <th>nickname_away</th>\n",
       "    </tr>\n",
       "  </thead>\n",
       "  <tbody>\n",
       "    <tr>\n",
       "      <th>0</th>\n",
       "      <td>2020-12-19</td>\n",
       "      <td>Final</td>\n",
       "      <td>120</td>\n",
       "      <td>117</td>\n",
       "      <td>1</td>\n",
       "      <td>Orlando</td>\n",
       "      <td>Magic</td>\n",
       "      <td>Charlotte</td>\n",
       "      <td>Hornets</td>\n",
       "    </tr>\n",
       "    <tr>\n",
       "      <th>1</th>\n",
       "      <td>2020-12-17</td>\n",
       "      <td>Final</td>\n",
       "      <td>115</td>\n",
       "      <td>123</td>\n",
       "      <td>0</td>\n",
       "      <td>Orlando</td>\n",
       "      <td>Magic</td>\n",
       "      <td>Charlotte</td>\n",
       "      <td>Hornets</td>\n",
       "    </tr>\n",
       "    <tr>\n",
       "      <th>2</th>\n",
       "      <td>2014-03-28</td>\n",
       "      <td>Final</td>\n",
       "      <td>110</td>\n",
       "      <td>105</td>\n",
       "      <td>1</td>\n",
       "      <td>Orlando</td>\n",
       "      <td>Magic</td>\n",
       "      <td>Charlotte</td>\n",
       "      <td>Hornets</td>\n",
       "    </tr>\n",
       "    <tr>\n",
       "      <th>3</th>\n",
       "      <td>2014-01-17</td>\n",
       "      <td>Final</td>\n",
       "      <td>101</td>\n",
       "      <td>111</td>\n",
       "      <td>0</td>\n",
       "      <td>Orlando</td>\n",
       "      <td>Magic</td>\n",
       "      <td>Charlotte</td>\n",
       "      <td>Hornets</td>\n",
       "    </tr>\n",
       "    <tr>\n",
       "      <th>4</th>\n",
       "      <td>2013-02-19</td>\n",
       "      <td>Final</td>\n",
       "      <td>92</td>\n",
       "      <td>105</td>\n",
       "      <td>0</td>\n",
       "      <td>Orlando</td>\n",
       "      <td>Magic</td>\n",
       "      <td>Charlotte</td>\n",
       "      <td>Hornets</td>\n",
       "    </tr>\n",
       "  </tbody>\n",
       "</table>\n",
       "</div>"
      ],
      "text/plain": [
       "   game_date game_status_text  points_home  points_away  home_team_wins  \\\n",
       "0 2020-12-19            Final          120          117               1   \n",
       "1 2020-12-17            Final          115          123               0   \n",
       "2 2014-03-28            Final          110          105               1   \n",
       "3 2014-01-17            Final          101          111               0   \n",
       "4 2013-02-19            Final           92          105               0   \n",
       "\n",
       "  city_home nickname_home  city_away nickname_away  \n",
       "0   Orlando         Magic  Charlotte       Hornets  \n",
       "1   Orlando         Magic  Charlotte       Hornets  \n",
       "2   Orlando         Magic  Charlotte       Hornets  \n",
       "3   Orlando         Magic  Charlotte       Hornets  \n",
       "4   Orlando         Magic  Charlotte       Hornets  "
      ]
     },
     "execution_count": 173,
     "metadata": {},
     "output_type": "execute_result"
    }
   ],
   "source": [
    "games.head()"
   ]
  },
  {
   "cell_type": "code",
   "execution_count": 196,
   "id": "12cc0bbe-7c9a-4eb4-b9d4-b55d3f264569",
   "metadata": {
    "tags": []
   },
   "outputs": [],
   "source": [
    "#Select rows with label and integer row zero"
   ]
  },
  {
   "cell_type": "code",
   "execution_count": 174,
   "id": "0be8e25b-fcd9-4029-b189-20ca6c234b50",
   "metadata": {
    "tags": []
   },
   "outputs": [
    {
     "data": {
      "text/plain": [
       "game_date           2020-12-19 00:00:00\n",
       "game_status_text                  Final\n",
       "points_home                         120\n",
       "points_away                         117\n",
       "home_team_wins                        1\n",
       "city_home                       Orlando\n",
       "nickname_home                     Magic\n",
       "city_away                     Charlotte\n",
       "nickname_away                   Hornets\n",
       "Name: 0, dtype: object"
      ]
     },
     "execution_count": 174,
     "metadata": {},
     "output_type": "execute_result"
    }
   ],
   "source": [
    "games.loc[0]"
   ]
  },
  {
   "cell_type": "code",
   "execution_count": 175,
   "id": "3b00fea0-025c-4e4c-a0b3-d40c2346ce01",
   "metadata": {
    "tags": []
   },
   "outputs": [
    {
     "data": {
      "text/plain": [
       "game_date           2020-12-19 00:00:00\n",
       "game_status_text                  Final\n",
       "points_home                         120\n",
       "points_away                         117\n",
       "home_team_wins                        1\n",
       "city_home                       Orlando\n",
       "nickname_home                     Magic\n",
       "city_away                     Charlotte\n",
       "nickname_away                   Hornets\n",
       "Name: 0, dtype: object"
      ]
     },
     "execution_count": 175,
     "metadata": {},
     "output_type": "execute_result"
    }
   ],
   "source": [
    "games.iloc[0]"
   ]
  },
  {
   "cell_type": "code",
   "execution_count": 197,
   "id": "5ebc344d-cc40-4a8c-b6f2-6f58f39aeabd",
   "metadata": {
    "tags": []
   },
   "outputs": [],
   "source": [
    "#Set the column with game dates as the new index of dataframe games"
   ]
  },
  {
   "cell_type": "code",
   "execution_count": 176,
   "id": "0ab0c057-80c2-4317-9976-9b1046cf2d7e",
   "metadata": {
    "tags": []
   },
   "outputs": [],
   "source": [
    "games=games.set_index('game_date')"
   ]
  },
  {
   "cell_type": "code",
   "execution_count": 198,
   "id": "ee388c65-bdf3-4010-9d3f-d03527b20b4f",
   "metadata": {
    "tags": []
   },
   "outputs": [],
   "source": [
    "#Verify change to index has been made correctly to dataframe"
   ]
  },
  {
   "cell_type": "code",
   "execution_count": 177,
   "id": "3c080108-3467-4717-a5f2-736c1b479e14",
   "metadata": {
    "tags": []
   },
   "outputs": [
    {
     "data": {
      "text/plain": [
       "DatetimeIndex(['2020-12-19', '2020-12-17', '2014-03-28', '2014-01-17',\n",
       "               '2013-02-19', '2013-01-18', '2012-04-25', '2012-01-17',\n",
       "               '2011-04-01', '2011-02-27',\n",
       "               ...\n",
       "               '2007-12-03', '2007-01-10', '2006-03-01', '2004-12-10',\n",
       "               '2004-03-17', '2018-11-26', '2017-11-13', '2017-03-16',\n",
       "               '2016-03-07', '2014-12-02'],\n",
       "              dtype='datetime64[ns]', name='game_date', length=23421, freq=None)"
      ]
     },
     "execution_count": 177,
     "metadata": {},
     "output_type": "execute_result"
    }
   ],
   "source": [
    "games.index"
   ]
  },
  {
   "cell_type": "code",
   "execution_count": 201,
   "id": "bef29d96-c5b8-4121-8f33-244636501c37",
   "metadata": {
    "tags": []
   },
   "outputs": [],
   "source": [
    "#Select rows with games played on the 18th of December 2020"
   ]
  },
  {
   "cell_type": "code",
   "execution_count": 178,
   "id": "354e3af8-5751-45d7-ae33-e6aff0f591eb",
   "metadata": {
    "tags": []
   },
   "outputs": [
    {
     "data": {
      "text/html": [
       "<div>\n",
       "<style scoped>\n",
       "    .dataframe tbody tr th:only-of-type {\n",
       "        vertical-align: middle;\n",
       "    }\n",
       "\n",
       "    .dataframe tbody tr th {\n",
       "        vertical-align: top;\n",
       "    }\n",
       "\n",
       "    .dataframe thead th {\n",
       "        text-align: right;\n",
       "    }\n",
       "</style>\n",
       "<table border=\"1\" class=\"dataframe\">\n",
       "  <thead>\n",
       "    <tr style=\"text-align: right;\">\n",
       "      <th></th>\n",
       "      <th>game_status_text</th>\n",
       "      <th>points_home</th>\n",
       "      <th>points_away</th>\n",
       "      <th>home_team_wins</th>\n",
       "      <th>city_home</th>\n",
       "      <th>nickname_home</th>\n",
       "      <th>city_away</th>\n",
       "      <th>nickname_away</th>\n",
       "    </tr>\n",
       "    <tr>\n",
       "      <th>game_date</th>\n",
       "      <th></th>\n",
       "      <th></th>\n",
       "      <th></th>\n",
       "      <th></th>\n",
       "      <th></th>\n",
       "      <th></th>\n",
       "      <th></th>\n",
       "      <th></th>\n",
       "    </tr>\n",
       "  </thead>\n",
       "  <tbody>\n",
       "    <tr>\n",
       "      <th>2020-12-18</th>\n",
       "      <td>Final</td>\n",
       "      <td>127</td>\n",
       "      <td>113</td>\n",
       "      <td>1</td>\n",
       "      <td>New Orleans</td>\n",
       "      <td>Pelicans</td>\n",
       "      <td>Milwaukee</td>\n",
       "      <td>Bucks</td>\n",
       "    </tr>\n",
       "    <tr>\n",
       "      <th>2020-12-18</th>\n",
       "      <td>Final</td>\n",
       "      <td>89</td>\n",
       "      <td>113</td>\n",
       "      <td>0</td>\n",
       "      <td>Boston</td>\n",
       "      <td>Celtics</td>\n",
       "      <td>Brooklyn</td>\n",
       "      <td>Nets</td>\n",
       "    </tr>\n",
       "    <tr>\n",
       "      <th>2020-12-18</th>\n",
       "      <td>Final</td>\n",
       "      <td>113</td>\n",
       "      <td>114</td>\n",
       "      <td>0</td>\n",
       "      <td>Phoenix</td>\n",
       "      <td>Suns</td>\n",
       "      <td>Los Angeles</td>\n",
       "      <td>Lakers</td>\n",
       "    </tr>\n",
       "    <tr>\n",
       "      <th>2020-12-18</th>\n",
       "      <td>Final</td>\n",
       "      <td>129</td>\n",
       "      <td>96</td>\n",
       "      <td>1</td>\n",
       "      <td>Denver</td>\n",
       "      <td>Nuggets</td>\n",
       "      <td>Portland</td>\n",
       "      <td>Trail Blazers</td>\n",
       "    </tr>\n",
       "    <tr>\n",
       "      <th>2020-12-18</th>\n",
       "      <td>Final</td>\n",
       "      <td>105</td>\n",
       "      <td>117</td>\n",
       "      <td>0</td>\n",
       "      <td>Toronto</td>\n",
       "      <td>Raptors</td>\n",
       "      <td>Miami</td>\n",
       "      <td>Heat</td>\n",
       "    </tr>\n",
       "    <tr>\n",
       "      <th>2020-12-18</th>\n",
       "      <td>Final</td>\n",
       "      <td>107</td>\n",
       "      <td>113</td>\n",
       "      <td>0</td>\n",
       "      <td>Indiana</td>\n",
       "      <td>Pacers</td>\n",
       "      <td>Philadelphia</td>\n",
       "      <td>76ers</td>\n",
       "    </tr>\n",
       "    <tr>\n",
       "      <th>2020-12-18</th>\n",
       "      <td>Final</td>\n",
       "      <td>103</td>\n",
       "      <td>105</td>\n",
       "      <td>0</td>\n",
       "      <td>Oklahoma City</td>\n",
       "      <td>Thunder</td>\n",
       "      <td>Chicago</td>\n",
       "      <td>Bulls</td>\n",
       "    </tr>\n",
       "    <tr>\n",
       "      <th>2020-12-18</th>\n",
       "      <td>Final</td>\n",
       "      <td>119</td>\n",
       "      <td>83</td>\n",
       "      <td>1</td>\n",
       "      <td>New York</td>\n",
       "      <td>Knicks</td>\n",
       "      <td>Cleveland</td>\n",
       "      <td>Cavaliers</td>\n",
       "    </tr>\n",
       "  </tbody>\n",
       "</table>\n",
       "</div>"
      ],
      "text/plain": [
       "           game_status_text  points_home  points_away  home_team_wins  \\\n",
       "game_date                                                               \n",
       "2020-12-18            Final          127          113               1   \n",
       "2020-12-18            Final           89          113               0   \n",
       "2020-12-18            Final          113          114               0   \n",
       "2020-12-18            Final          129           96               1   \n",
       "2020-12-18            Final          105          117               0   \n",
       "2020-12-18            Final          107          113               0   \n",
       "2020-12-18            Final          103          105               0   \n",
       "2020-12-18            Final          119           83               1   \n",
       "\n",
       "                city_home nickname_home     city_away  nickname_away  \n",
       "game_date                                                             \n",
       "2020-12-18    New Orleans      Pelicans     Milwaukee          Bucks  \n",
       "2020-12-18         Boston       Celtics      Brooklyn           Nets  \n",
       "2020-12-18        Phoenix          Suns   Los Angeles         Lakers  \n",
       "2020-12-18         Denver       Nuggets      Portland  Trail Blazers  \n",
       "2020-12-18        Toronto       Raptors         Miami           Heat  \n",
       "2020-12-18        Indiana        Pacers  Philadelphia          76ers  \n",
       "2020-12-18  Oklahoma City       Thunder       Chicago          Bulls  \n",
       "2020-12-18       New York        Knicks     Cleveland      Cavaliers  "
      ]
     },
     "execution_count": 178,
     "metadata": {},
     "output_type": "execute_result"
    }
   ],
   "source": [
    "games.loc['2020-12-18']"
   ]
  },
  {
   "cell_type": "code",
   "execution_count": 202,
   "id": "6ea088b0-312a-4265-be2e-505e5552294b",
   "metadata": {
    "tags": []
   },
   "outputs": [],
   "source": [
    "#Select rows with games played from the 18th to the 19th of December 2020"
   ]
  },
  {
   "cell_type": "code",
   "execution_count": 179,
   "id": "a7702fac-e07e-4018-a972-859df6097889",
   "metadata": {
    "tags": []
   },
   "outputs": [
    {
     "data": {
      "text/html": [
       "<div>\n",
       "<style scoped>\n",
       "    .dataframe tbody tr th:only-of-type {\n",
       "        vertical-align: middle;\n",
       "    }\n",
       "\n",
       "    .dataframe tbody tr th {\n",
       "        vertical-align: top;\n",
       "    }\n",
       "\n",
       "    .dataframe thead th {\n",
       "        text-align: right;\n",
       "    }\n",
       "</style>\n",
       "<table border=\"1\" class=\"dataframe\">\n",
       "  <thead>\n",
       "    <tr style=\"text-align: right;\">\n",
       "      <th></th>\n",
       "      <th>game_status_text</th>\n",
       "      <th>points_home</th>\n",
       "      <th>points_away</th>\n",
       "      <th>home_team_wins</th>\n",
       "      <th>city_home</th>\n",
       "      <th>nickname_home</th>\n",
       "      <th>city_away</th>\n",
       "      <th>nickname_away</th>\n",
       "    </tr>\n",
       "    <tr>\n",
       "      <th>game_date</th>\n",
       "      <th></th>\n",
       "      <th></th>\n",
       "      <th></th>\n",
       "      <th></th>\n",
       "      <th></th>\n",
       "      <th></th>\n",
       "      <th></th>\n",
       "      <th></th>\n",
       "    </tr>\n",
       "  </thead>\n",
       "  <tbody>\n",
       "    <tr>\n",
       "      <th>2020-12-19</th>\n",
       "      <td>Final</td>\n",
       "      <td>120</td>\n",
       "      <td>117</td>\n",
       "      <td>1</td>\n",
       "      <td>Orlando</td>\n",
       "      <td>Magic</td>\n",
       "      <td>Charlotte</td>\n",
       "      <td>Hornets</td>\n",
       "    </tr>\n",
       "    <tr>\n",
       "      <th>2020-12-18</th>\n",
       "      <td>Final</td>\n",
       "      <td>127</td>\n",
       "      <td>113</td>\n",
       "      <td>1</td>\n",
       "      <td>New Orleans</td>\n",
       "      <td>Pelicans</td>\n",
       "      <td>Milwaukee</td>\n",
       "      <td>Bucks</td>\n",
       "    </tr>\n",
       "    <tr>\n",
       "      <th>2020-12-18</th>\n",
       "      <td>Final</td>\n",
       "      <td>89</td>\n",
       "      <td>113</td>\n",
       "      <td>0</td>\n",
       "      <td>Boston</td>\n",
       "      <td>Celtics</td>\n",
       "      <td>Brooklyn</td>\n",
       "      <td>Nets</td>\n",
       "    </tr>\n",
       "    <tr>\n",
       "      <th>2020-12-18</th>\n",
       "      <td>Final</td>\n",
       "      <td>113</td>\n",
       "      <td>114</td>\n",
       "      <td>0</td>\n",
       "      <td>Phoenix</td>\n",
       "      <td>Suns</td>\n",
       "      <td>Los Angeles</td>\n",
       "      <td>Lakers</td>\n",
       "    </tr>\n",
       "    <tr>\n",
       "      <th>2020-12-18</th>\n",
       "      <td>Final</td>\n",
       "      <td>129</td>\n",
       "      <td>96</td>\n",
       "      <td>1</td>\n",
       "      <td>Denver</td>\n",
       "      <td>Nuggets</td>\n",
       "      <td>Portland</td>\n",
       "      <td>Trail Blazers</td>\n",
       "    </tr>\n",
       "    <tr>\n",
       "      <th>2020-12-19</th>\n",
       "      <td>Final</td>\n",
       "      <td>99</td>\n",
       "      <td>96</td>\n",
       "      <td>1</td>\n",
       "      <td>Washington</td>\n",
       "      <td>Wizards</td>\n",
       "      <td>Detroit</td>\n",
       "      <td>Pistons</td>\n",
       "    </tr>\n",
       "    <tr>\n",
       "      <th>2020-12-19</th>\n",
       "      <td>Final</td>\n",
       "      <td>116</td>\n",
       "      <td>117</td>\n",
       "      <td>0</td>\n",
       "      <td>Memphis</td>\n",
       "      <td>Grizzlies</td>\n",
       "      <td>Atlanta</td>\n",
       "      <td>Hawks</td>\n",
       "    </tr>\n",
       "    <tr>\n",
       "      <th>2020-12-18</th>\n",
       "      <td>Final</td>\n",
       "      <td>105</td>\n",
       "      <td>117</td>\n",
       "      <td>0</td>\n",
       "      <td>Toronto</td>\n",
       "      <td>Raptors</td>\n",
       "      <td>Miami</td>\n",
       "      <td>Heat</td>\n",
       "    </tr>\n",
       "    <tr>\n",
       "      <th>2020-12-18</th>\n",
       "      <td>Final</td>\n",
       "      <td>107</td>\n",
       "      <td>113</td>\n",
       "      <td>0</td>\n",
       "      <td>Indiana</td>\n",
       "      <td>Pacers</td>\n",
       "      <td>Philadelphia</td>\n",
       "      <td>76ers</td>\n",
       "    </tr>\n",
       "    <tr>\n",
       "      <th>2020-12-18</th>\n",
       "      <td>Final</td>\n",
       "      <td>103</td>\n",
       "      <td>105</td>\n",
       "      <td>0</td>\n",
       "      <td>Oklahoma City</td>\n",
       "      <td>Thunder</td>\n",
       "      <td>Chicago</td>\n",
       "      <td>Bulls</td>\n",
       "    </tr>\n",
       "    <tr>\n",
       "      <th>2020-12-18</th>\n",
       "      <td>Final</td>\n",
       "      <td>119</td>\n",
       "      <td>83</td>\n",
       "      <td>1</td>\n",
       "      <td>New York</td>\n",
       "      <td>Knicks</td>\n",
       "      <td>Cleveland</td>\n",
       "      <td>Cavaliers</td>\n",
       "    </tr>\n",
       "  </tbody>\n",
       "</table>\n",
       "</div>"
      ],
      "text/plain": [
       "           game_status_text  points_home  points_away  home_team_wins  \\\n",
       "game_date                                                               \n",
       "2020-12-19            Final          120          117               1   \n",
       "2020-12-18            Final          127          113               1   \n",
       "2020-12-18            Final           89          113               0   \n",
       "2020-12-18            Final          113          114               0   \n",
       "2020-12-18            Final          129           96               1   \n",
       "2020-12-19            Final           99           96               1   \n",
       "2020-12-19            Final          116          117               0   \n",
       "2020-12-18            Final          105          117               0   \n",
       "2020-12-18            Final          107          113               0   \n",
       "2020-12-18            Final          103          105               0   \n",
       "2020-12-18            Final          119           83               1   \n",
       "\n",
       "                city_home nickname_home     city_away  nickname_away  \n",
       "game_date                                                             \n",
       "2020-12-19        Orlando         Magic     Charlotte        Hornets  \n",
       "2020-12-18    New Orleans      Pelicans     Milwaukee          Bucks  \n",
       "2020-12-18         Boston       Celtics      Brooklyn           Nets  \n",
       "2020-12-18        Phoenix          Suns   Los Angeles         Lakers  \n",
       "2020-12-18         Denver       Nuggets      Portland  Trail Blazers  \n",
       "2020-12-19     Washington       Wizards       Detroit        Pistons  \n",
       "2020-12-19        Memphis     Grizzlies       Atlanta          Hawks  \n",
       "2020-12-18        Toronto       Raptors         Miami           Heat  \n",
       "2020-12-18        Indiana        Pacers  Philadelphia          76ers  \n",
       "2020-12-18  Oklahoma City       Thunder       Chicago          Bulls  \n",
       "2020-12-18       New York        Knicks     Cleveland      Cavaliers  "
      ]
     },
     "execution_count": 179,
     "metadata": {},
     "output_type": "execute_result"
    }
   ],
   "source": [
    "games.loc['2020-12-18':'2020-12-19']"
   ]
  },
  {
   "cell_type": "code",
   "execution_count": 203,
   "id": "d0aba7bc-b062-467d-813a-8a6fb88a5551",
   "metadata": {
    "tags": []
   },
   "outputs": [],
   "source": [
    "#Select rows with games played on the 18th of December for both years, 2020 and 2019"
   ]
  },
  {
   "cell_type": "code",
   "execution_count": 180,
   "id": "06cd9a8c-7e55-4fa8-9134-3f785d35c082",
   "metadata": {
    "tags": []
   },
   "outputs": [
    {
     "data": {
      "text/html": [
       "<div>\n",
       "<style scoped>\n",
       "    .dataframe tbody tr th:only-of-type {\n",
       "        vertical-align: middle;\n",
       "    }\n",
       "\n",
       "    .dataframe tbody tr th {\n",
       "        vertical-align: top;\n",
       "    }\n",
       "\n",
       "    .dataframe thead th {\n",
       "        text-align: right;\n",
       "    }\n",
       "</style>\n",
       "<table border=\"1\" class=\"dataframe\">\n",
       "  <thead>\n",
       "    <tr style=\"text-align: right;\">\n",
       "      <th></th>\n",
       "      <th>game_status_text</th>\n",
       "      <th>points_home</th>\n",
       "      <th>points_away</th>\n",
       "      <th>home_team_wins</th>\n",
       "      <th>city_home</th>\n",
       "      <th>nickname_home</th>\n",
       "      <th>city_away</th>\n",
       "      <th>nickname_away</th>\n",
       "    </tr>\n",
       "    <tr>\n",
       "      <th>game_date</th>\n",
       "      <th></th>\n",
       "      <th></th>\n",
       "      <th></th>\n",
       "      <th></th>\n",
       "      <th></th>\n",
       "      <th></th>\n",
       "      <th></th>\n",
       "      <th></th>\n",
       "    </tr>\n",
       "  </thead>\n",
       "  <tbody>\n",
       "    <tr>\n",
       "      <th>2020-12-18</th>\n",
       "      <td>Final</td>\n",
       "      <td>127</td>\n",
       "      <td>113</td>\n",
       "      <td>1</td>\n",
       "      <td>New Orleans</td>\n",
       "      <td>Pelicans</td>\n",
       "      <td>Milwaukee</td>\n",
       "      <td>Bucks</td>\n",
       "    </tr>\n",
       "    <tr>\n",
       "      <th>2020-12-18</th>\n",
       "      <td>Final</td>\n",
       "      <td>89</td>\n",
       "      <td>113</td>\n",
       "      <td>0</td>\n",
       "      <td>Boston</td>\n",
       "      <td>Celtics</td>\n",
       "      <td>Brooklyn</td>\n",
       "      <td>Nets</td>\n",
       "    </tr>\n",
       "    <tr>\n",
       "      <th>2020-12-18</th>\n",
       "      <td>Final</td>\n",
       "      <td>113</td>\n",
       "      <td>114</td>\n",
       "      <td>0</td>\n",
       "      <td>Phoenix</td>\n",
       "      <td>Suns</td>\n",
       "      <td>Los Angeles</td>\n",
       "      <td>Lakers</td>\n",
       "    </tr>\n",
       "    <tr>\n",
       "      <th>2020-12-18</th>\n",
       "      <td>Final</td>\n",
       "      <td>129</td>\n",
       "      <td>96</td>\n",
       "      <td>1</td>\n",
       "      <td>Denver</td>\n",
       "      <td>Nuggets</td>\n",
       "      <td>Portland</td>\n",
       "      <td>Trail Blazers</td>\n",
       "    </tr>\n",
       "    <tr>\n",
       "      <th>2020-12-18</th>\n",
       "      <td>Final</td>\n",
       "      <td>105</td>\n",
       "      <td>117</td>\n",
       "      <td>0</td>\n",
       "      <td>Toronto</td>\n",
       "      <td>Raptors</td>\n",
       "      <td>Miami</td>\n",
       "      <td>Heat</td>\n",
       "    </tr>\n",
       "    <tr>\n",
       "      <th>2020-12-18</th>\n",
       "      <td>Final</td>\n",
       "      <td>107</td>\n",
       "      <td>113</td>\n",
       "      <td>0</td>\n",
       "      <td>Indiana</td>\n",
       "      <td>Pacers</td>\n",
       "      <td>Philadelphia</td>\n",
       "      <td>76ers</td>\n",
       "    </tr>\n",
       "    <tr>\n",
       "      <th>2020-12-18</th>\n",
       "      <td>Final</td>\n",
       "      <td>103</td>\n",
       "      <td>105</td>\n",
       "      <td>0</td>\n",
       "      <td>Oklahoma City</td>\n",
       "      <td>Thunder</td>\n",
       "      <td>Chicago</td>\n",
       "      <td>Bulls</td>\n",
       "    </tr>\n",
       "    <tr>\n",
       "      <th>2020-12-18</th>\n",
       "      <td>Final</td>\n",
       "      <td>119</td>\n",
       "      <td>83</td>\n",
       "      <td>1</td>\n",
       "      <td>New York</td>\n",
       "      <td>Knicks</td>\n",
       "      <td>Cleveland</td>\n",
       "      <td>Cavaliers</td>\n",
       "    </tr>\n",
       "    <tr>\n",
       "      <th>2019-12-18</th>\n",
       "      <td>Final</td>\n",
       "      <td>100</td>\n",
       "      <td>98</td>\n",
       "      <td>1</td>\n",
       "      <td>Cleveland</td>\n",
       "      <td>Cavaliers</td>\n",
       "      <td>Charlotte</td>\n",
       "      <td>Hornets</td>\n",
       "    </tr>\n",
       "    <tr>\n",
       "      <th>2019-12-18</th>\n",
       "      <td>Final</td>\n",
       "      <td>99</td>\n",
       "      <td>107</td>\n",
       "      <td>0</td>\n",
       "      <td>Minnesota</td>\n",
       "      <td>Timberwolves</td>\n",
       "      <td>New Orleans</td>\n",
       "      <td>Pelicans</td>\n",
       "    </tr>\n",
       "    <tr>\n",
       "      <th>2019-12-18</th>\n",
       "      <td>Final</td>\n",
       "      <td>99</td>\n",
       "      <td>112</td>\n",
       "      <td>0</td>\n",
       "      <td>Detroit</td>\n",
       "      <td>Pistons</td>\n",
       "      <td>Toronto</td>\n",
       "      <td>Raptors</td>\n",
       "    </tr>\n",
       "    <tr>\n",
       "      <th>2019-12-18</th>\n",
       "      <td>Final</td>\n",
       "      <td>104</td>\n",
       "      <td>108</td>\n",
       "      <td>0</td>\n",
       "      <td>Philadelphia</td>\n",
       "      <td>76ers</td>\n",
       "      <td>Miami</td>\n",
       "      <td>Heat</td>\n",
       "    </tr>\n",
       "    <tr>\n",
       "      <th>2019-12-18</th>\n",
       "      <td>Final</td>\n",
       "      <td>103</td>\n",
       "      <td>109</td>\n",
       "      <td>0</td>\n",
       "      <td>Dallas</td>\n",
       "      <td>Mavericks</td>\n",
       "      <td>Boston</td>\n",
       "      <td>Celtics</td>\n",
       "    </tr>\n",
       "    <tr>\n",
       "      <th>2019-12-18</th>\n",
       "      <td>Final</td>\n",
       "      <td>109</td>\n",
       "      <td>110</td>\n",
       "      <td>0</td>\n",
       "      <td>Washington</td>\n",
       "      <td>Wizards</td>\n",
       "      <td>Chicago</td>\n",
       "      <td>Bulls</td>\n",
       "    </tr>\n",
       "    <tr>\n",
       "      <th>2019-12-18</th>\n",
       "      <td>Final</td>\n",
       "      <td>126</td>\n",
       "      <td>122</td>\n",
       "      <td>1</td>\n",
       "      <td>Oklahoma City</td>\n",
       "      <td>Thunder</td>\n",
       "      <td>Memphis</td>\n",
       "      <td>Grizzlies</td>\n",
       "    </tr>\n",
       "    <tr>\n",
       "      <th>2019-12-18</th>\n",
       "      <td>Final</td>\n",
       "      <td>122</td>\n",
       "      <td>112</td>\n",
       "      <td>1</td>\n",
       "      <td>Portland</td>\n",
       "      <td>Trail Blazers</td>\n",
       "      <td>Golden State</td>\n",
       "      <td>Warriors</td>\n",
       "    </tr>\n",
       "    <tr>\n",
       "      <th>2019-12-18</th>\n",
       "      <td>Final</td>\n",
       "      <td>113</td>\n",
       "      <td>104</td>\n",
       "      <td>1</td>\n",
       "      <td>Denver</td>\n",
       "      <td>Nuggets</td>\n",
       "      <td>Orlando</td>\n",
       "      <td>Magic</td>\n",
       "    </tr>\n",
       "  </tbody>\n",
       "</table>\n",
       "</div>"
      ],
      "text/plain": [
       "           game_status_text  points_home  points_away  home_team_wins  \\\n",
       "game_date                                                               \n",
       "2020-12-18            Final          127          113               1   \n",
       "2020-12-18            Final           89          113               0   \n",
       "2020-12-18            Final          113          114               0   \n",
       "2020-12-18            Final          129           96               1   \n",
       "2020-12-18            Final          105          117               0   \n",
       "2020-12-18            Final          107          113               0   \n",
       "2020-12-18            Final          103          105               0   \n",
       "2020-12-18            Final          119           83               1   \n",
       "2019-12-18            Final          100           98               1   \n",
       "2019-12-18            Final           99          107               0   \n",
       "2019-12-18            Final           99          112               0   \n",
       "2019-12-18            Final          104          108               0   \n",
       "2019-12-18            Final          103          109               0   \n",
       "2019-12-18            Final          109          110               0   \n",
       "2019-12-18            Final          126          122               1   \n",
       "2019-12-18            Final          122          112               1   \n",
       "2019-12-18            Final          113          104               1   \n",
       "\n",
       "                city_home  nickname_home     city_away  nickname_away  \n",
       "game_date                                                              \n",
       "2020-12-18    New Orleans       Pelicans     Milwaukee          Bucks  \n",
       "2020-12-18         Boston        Celtics      Brooklyn           Nets  \n",
       "2020-12-18        Phoenix           Suns   Los Angeles         Lakers  \n",
       "2020-12-18         Denver        Nuggets      Portland  Trail Blazers  \n",
       "2020-12-18        Toronto        Raptors         Miami           Heat  \n",
       "2020-12-18        Indiana         Pacers  Philadelphia          76ers  \n",
       "2020-12-18  Oklahoma City        Thunder       Chicago          Bulls  \n",
       "2020-12-18       New York         Knicks     Cleveland      Cavaliers  \n",
       "2019-12-18      Cleveland      Cavaliers     Charlotte        Hornets  \n",
       "2019-12-18      Minnesota   Timberwolves   New Orleans       Pelicans  \n",
       "2019-12-18        Detroit        Pistons       Toronto        Raptors  \n",
       "2019-12-18   Philadelphia          76ers         Miami           Heat  \n",
       "2019-12-18         Dallas      Mavericks        Boston        Celtics  \n",
       "2019-12-18     Washington        Wizards       Chicago          Bulls  \n",
       "2019-12-18  Oklahoma City        Thunder       Memphis      Grizzlies  \n",
       "2019-12-18       Portland  Trail Blazers  Golden State       Warriors  \n",
       "2019-12-18         Denver        Nuggets       Orlando          Magic  "
      ]
     },
     "execution_count": 180,
     "metadata": {},
     "output_type": "execute_result"
    }
   ],
   "source": [
    "games.loc[['2020-12-18','2019-12-18']]"
   ]
  },
  {
   "cell_type": "code",
   "execution_count": 205,
   "id": "698e12b1-24e3-49c3-826c-8149033266b9",
   "metadata": {
    "tags": []
   },
   "outputs": [],
   "source": [
    "#Select games where the home team scored greater than 150 points"
   ]
  },
  {
   "cell_type": "code",
   "execution_count": 181,
   "id": "c8926216-1ae4-4da0-a5af-a123c4b406f7",
   "metadata": {
    "tags": []
   },
   "outputs": [
    {
     "data": {
      "text/html": [
       "<div>\n",
       "<style scoped>\n",
       "    .dataframe tbody tr th:only-of-type {\n",
       "        vertical-align: middle;\n",
       "    }\n",
       "\n",
       "    .dataframe tbody tr th {\n",
       "        vertical-align: top;\n",
       "    }\n",
       "\n",
       "    .dataframe thead th {\n",
       "        text-align: right;\n",
       "    }\n",
       "</style>\n",
       "<table border=\"1\" class=\"dataframe\">\n",
       "  <thead>\n",
       "    <tr style=\"text-align: right;\">\n",
       "      <th></th>\n",
       "      <th>game_status_text</th>\n",
       "      <th>points_home</th>\n",
       "      <th>points_away</th>\n",
       "      <th>home_team_wins</th>\n",
       "      <th>city_home</th>\n",
       "      <th>nickname_home</th>\n",
       "      <th>city_away</th>\n",
       "      <th>nickname_away</th>\n",
       "    </tr>\n",
       "    <tr>\n",
       "      <th>game_date</th>\n",
       "      <th></th>\n",
       "      <th></th>\n",
       "      <th></th>\n",
       "      <th></th>\n",
       "      <th></th>\n",
       "      <th></th>\n",
       "      <th></th>\n",
       "      <th></th>\n",
       "    </tr>\n",
       "  </thead>\n",
       "  <tbody>\n",
       "    <tr>\n",
       "      <th>2010-03-16</th>\n",
       "      <td>Final</td>\n",
       "      <td>152</td>\n",
       "      <td>114</td>\n",
       "      <td>1</td>\n",
       "      <td>Phoenix</td>\n",
       "      <td>Suns</td>\n",
       "      <td>Minnesota</td>\n",
       "      <td>Timberwolves</td>\n",
       "    </tr>\n",
       "    <tr>\n",
       "      <th>2020-08-25</th>\n",
       "      <td>Final</td>\n",
       "      <td>154</td>\n",
       "      <td>111</td>\n",
       "      <td>1</td>\n",
       "      <td>Los Angeles</td>\n",
       "      <td>Clippers</td>\n",
       "      <td>Dallas</td>\n",
       "      <td>Mavericks</td>\n",
       "    </tr>\n",
       "    <tr>\n",
       "      <th>2006-12-27</th>\n",
       "      <td>Final</td>\n",
       "      <td>151</td>\n",
       "      <td>145</td>\n",
       "      <td>1</td>\n",
       "      <td>New York</td>\n",
       "      <td>Knicks</td>\n",
       "      <td>Detroit</td>\n",
       "      <td>Pistons</td>\n",
       "    </tr>\n",
       "    <tr>\n",
       "      <th>2019-11-30</th>\n",
       "      <td>Final</td>\n",
       "      <td>158</td>\n",
       "      <td>111</td>\n",
       "      <td>1</td>\n",
       "      <td>Houston</td>\n",
       "      <td>Rockets</td>\n",
       "      <td>Atlanta</td>\n",
       "      <td>Hawks</td>\n",
       "    </tr>\n",
       "    <tr>\n",
       "      <th>2008-03-16</th>\n",
       "      <td>Final</td>\n",
       "      <td>168</td>\n",
       "      <td>116</td>\n",
       "      <td>1</td>\n",
       "      <td>Denver</td>\n",
       "      <td>Nuggets</td>\n",
       "      <td>Oklahoma City</td>\n",
       "      <td>Thunder</td>\n",
       "    </tr>\n",
       "    <tr>\n",
       "      <th>2019-01-10</th>\n",
       "      <td>Final</td>\n",
       "      <td>154</td>\n",
       "      <td>147</td>\n",
       "      <td>1</td>\n",
       "      <td>San Antonio</td>\n",
       "      <td>Spurs</td>\n",
       "      <td>Oklahoma City</td>\n",
       "      <td>Thunder</td>\n",
       "    </tr>\n",
       "    <tr>\n",
       "      <th>2020-01-28</th>\n",
       "      <td>Final</td>\n",
       "      <td>151</td>\n",
       "      <td>131</td>\n",
       "      <td>1</td>\n",
       "      <td>Milwaukee</td>\n",
       "      <td>Bucks</td>\n",
       "      <td>Washington</td>\n",
       "      <td>Wizards</td>\n",
       "    </tr>\n",
       "    <tr>\n",
       "      <th>2020-01-26</th>\n",
       "      <td>Final</td>\n",
       "      <td>152</td>\n",
       "      <td>133</td>\n",
       "      <td>1</td>\n",
       "      <td>Atlanta</td>\n",
       "      <td>Hawks</td>\n",
       "      <td>Washington</td>\n",
       "      <td>Wizards</td>\n",
       "    </tr>\n",
       "    <tr>\n",
       "      <th>2019-03-01</th>\n",
       "      <td>Final</td>\n",
       "      <td>161</td>\n",
       "      <td>168</td>\n",
       "      <td>0</td>\n",
       "      <td>Atlanta</td>\n",
       "      <td>Hawks</td>\n",
       "      <td>Chicago</td>\n",
       "      <td>Bulls</td>\n",
       "    </tr>\n",
       "    <tr>\n",
       "      <th>2019-10-30</th>\n",
       "      <td>Final</td>\n",
       "      <td>158</td>\n",
       "      <td>159</td>\n",
       "      <td>0</td>\n",
       "      <td>Washington</td>\n",
       "      <td>Wizards</td>\n",
       "      <td>Houston</td>\n",
       "      <td>Rockets</td>\n",
       "    </tr>\n",
       "    <tr>\n",
       "      <th>2006-12-07</th>\n",
       "      <td>Final</td>\n",
       "      <td>157</td>\n",
       "      <td>161</td>\n",
       "      <td>0</td>\n",
       "      <td>Brooklyn</td>\n",
       "      <td>Nets</td>\n",
       "      <td>Phoenix</td>\n",
       "      <td>Suns</td>\n",
       "    </tr>\n",
       "    <tr>\n",
       "      <th>2008-04-06</th>\n",
       "      <td>Final</td>\n",
       "      <td>151</td>\n",
       "      <td>147</td>\n",
       "      <td>1</td>\n",
       "      <td>Oklahoma City</td>\n",
       "      <td>Thunder</td>\n",
       "      <td>Denver</td>\n",
       "      <td>Nuggets</td>\n",
       "    </tr>\n",
       "  </tbody>\n",
       "</table>\n",
       "</div>"
      ],
      "text/plain": [
       "           game_status_text  points_home  points_away  home_team_wins  \\\n",
       "game_date                                                               \n",
       "2010-03-16            Final          152          114               1   \n",
       "2020-08-25            Final          154          111               1   \n",
       "2006-12-27            Final          151          145               1   \n",
       "2019-11-30            Final          158          111               1   \n",
       "2008-03-16            Final          168          116               1   \n",
       "2019-01-10            Final          154          147               1   \n",
       "2020-01-28            Final          151          131               1   \n",
       "2020-01-26            Final          152          133               1   \n",
       "2019-03-01            Final          161          168               0   \n",
       "2019-10-30            Final          158          159               0   \n",
       "2006-12-07            Final          157          161               0   \n",
       "2008-04-06            Final          151          147               1   \n",
       "\n",
       "                city_home nickname_home      city_away nickname_away  \n",
       "game_date                                                             \n",
       "2010-03-16        Phoenix          Suns      Minnesota  Timberwolves  \n",
       "2020-08-25    Los Angeles      Clippers         Dallas     Mavericks  \n",
       "2006-12-27       New York        Knicks        Detroit       Pistons  \n",
       "2019-11-30        Houston       Rockets        Atlanta         Hawks  \n",
       "2008-03-16         Denver       Nuggets  Oklahoma City       Thunder  \n",
       "2019-01-10    San Antonio         Spurs  Oklahoma City       Thunder  \n",
       "2020-01-28      Milwaukee         Bucks     Washington       Wizards  \n",
       "2020-01-26        Atlanta         Hawks     Washington       Wizards  \n",
       "2019-03-01        Atlanta         Hawks        Chicago         Bulls  \n",
       "2019-10-30     Washington       Wizards        Houston       Rockets  \n",
       "2006-12-07       Brooklyn          Nets        Phoenix          Suns  \n",
       "2008-04-06  Oklahoma City       Thunder         Denver       Nuggets  "
      ]
     },
     "execution_count": 181,
     "metadata": {},
     "output_type": "execute_result"
    }
   ],
   "source": [
    "games[games['points_home']>150]"
   ]
  },
  {
   "cell_type": "code",
   "execution_count": 206,
   "id": "e92c7213-755a-4b0f-af9a-14cc87d50e60",
   "metadata": {
    "tags": []
   },
   "outputs": [],
   "source": [
    "#Select the games where the the home team scored greater than 150 points and still lost the game"
   ]
  },
  {
   "cell_type": "code",
   "execution_count": 182,
   "id": "451d45dc-a5cc-4611-abdf-944c3f08a4cd",
   "metadata": {
    "tags": []
   },
   "outputs": [
    {
     "data": {
      "text/html": [
       "<div>\n",
       "<style scoped>\n",
       "    .dataframe tbody tr th:only-of-type {\n",
       "        vertical-align: middle;\n",
       "    }\n",
       "\n",
       "    .dataframe tbody tr th {\n",
       "        vertical-align: top;\n",
       "    }\n",
       "\n",
       "    .dataframe thead th {\n",
       "        text-align: right;\n",
       "    }\n",
       "</style>\n",
       "<table border=\"1\" class=\"dataframe\">\n",
       "  <thead>\n",
       "    <tr style=\"text-align: right;\">\n",
       "      <th></th>\n",
       "      <th>game_status_text</th>\n",
       "      <th>points_home</th>\n",
       "      <th>points_away</th>\n",
       "      <th>home_team_wins</th>\n",
       "      <th>city_home</th>\n",
       "      <th>nickname_home</th>\n",
       "      <th>city_away</th>\n",
       "      <th>nickname_away</th>\n",
       "    </tr>\n",
       "    <tr>\n",
       "      <th>game_date</th>\n",
       "      <th></th>\n",
       "      <th></th>\n",
       "      <th></th>\n",
       "      <th></th>\n",
       "      <th></th>\n",
       "      <th></th>\n",
       "      <th></th>\n",
       "      <th></th>\n",
       "    </tr>\n",
       "  </thead>\n",
       "  <tbody>\n",
       "    <tr>\n",
       "      <th>2019-03-01</th>\n",
       "      <td>Final</td>\n",
       "      <td>161</td>\n",
       "      <td>168</td>\n",
       "      <td>0</td>\n",
       "      <td>Atlanta</td>\n",
       "      <td>Hawks</td>\n",
       "      <td>Chicago</td>\n",
       "      <td>Bulls</td>\n",
       "    </tr>\n",
       "    <tr>\n",
       "      <th>2019-10-30</th>\n",
       "      <td>Final</td>\n",
       "      <td>158</td>\n",
       "      <td>159</td>\n",
       "      <td>0</td>\n",
       "      <td>Washington</td>\n",
       "      <td>Wizards</td>\n",
       "      <td>Houston</td>\n",
       "      <td>Rockets</td>\n",
       "    </tr>\n",
       "    <tr>\n",
       "      <th>2006-12-07</th>\n",
       "      <td>Final</td>\n",
       "      <td>157</td>\n",
       "      <td>161</td>\n",
       "      <td>0</td>\n",
       "      <td>Brooklyn</td>\n",
       "      <td>Nets</td>\n",
       "      <td>Phoenix</td>\n",
       "      <td>Suns</td>\n",
       "    </tr>\n",
       "  </tbody>\n",
       "</table>\n",
       "</div>"
      ],
      "text/plain": [
       "           game_status_text  points_home  points_away  home_team_wins  \\\n",
       "game_date                                                               \n",
       "2019-03-01            Final          161          168               0   \n",
       "2019-10-30            Final          158          159               0   \n",
       "2006-12-07            Final          157          161               0   \n",
       "\n",
       "             city_home nickname_home city_away nickname_away  \n",
       "game_date                                                     \n",
       "2019-03-01     Atlanta         Hawks   Chicago         Bulls  \n",
       "2019-10-30  Washington       Wizards   Houston       Rockets  \n",
       "2006-12-07    Brooklyn          Nets   Phoenix          Suns  "
      ]
     },
     "execution_count": 182,
     "metadata": {},
     "output_type": "execute_result"
    }
   ],
   "source": [
    "games[(games['points_home']>150) & (games['home_team_wins']!=1)]"
   ]
  },
  {
   "cell_type": "code",
   "execution_count": 208,
   "id": "89c86ad2-b63d-4f62-b043-abb38a79413f",
   "metadata": {
    "tags": []
   },
   "outputs": [],
   "source": [
    "#Select the games where the above occured and print out only the home team's total points in those games"
   ]
  },
  {
   "cell_type": "code",
   "execution_count": 183,
   "id": "3be151fb-9eb5-42fc-b8d1-5848a0877ede",
   "metadata": {
    "tags": []
   },
   "outputs": [
    {
     "data": {
      "text/html": [
       "<div>\n",
       "<style scoped>\n",
       "    .dataframe tbody tr th:only-of-type {\n",
       "        vertical-align: middle;\n",
       "    }\n",
       "\n",
       "    .dataframe tbody tr th {\n",
       "        vertical-align: top;\n",
       "    }\n",
       "\n",
       "    .dataframe thead th {\n",
       "        text-align: right;\n",
       "    }\n",
       "</style>\n",
       "<table border=\"1\" class=\"dataframe\">\n",
       "  <thead>\n",
       "    <tr style=\"text-align: right;\">\n",
       "      <th></th>\n",
       "      <th>home_team_wins</th>\n",
       "      <th>points_home</th>\n",
       "    </tr>\n",
       "    <tr>\n",
       "      <th>game_date</th>\n",
       "      <th></th>\n",
       "      <th></th>\n",
       "    </tr>\n",
       "  </thead>\n",
       "  <tbody>\n",
       "    <tr>\n",
       "      <th>2019-03-01</th>\n",
       "      <td>0</td>\n",
       "      <td>161</td>\n",
       "    </tr>\n",
       "    <tr>\n",
       "      <th>2019-10-30</th>\n",
       "      <td>0</td>\n",
       "      <td>158</td>\n",
       "    </tr>\n",
       "    <tr>\n",
       "      <th>2006-12-07</th>\n",
       "      <td>0</td>\n",
       "      <td>157</td>\n",
       "    </tr>\n",
       "  </tbody>\n",
       "</table>\n",
       "</div>"
      ],
      "text/plain": [
       "            home_team_wins  points_home\n",
       "game_date                              \n",
       "2019-03-01               0          161\n",
       "2019-10-30               0          158\n",
       "2006-12-07               0          157"
      ]
     },
     "execution_count": 183,
     "metadata": {},
     "output_type": "execute_result"
    }
   ],
   "source": [
    "games.loc[(games['points_home']>150)&(games['home_team_wins']!=1),['home_team_wins','points_home']]"
   ]
  },
  {
   "cell_type": "code",
   "execution_count": 210,
   "id": "78acb3bf-7183-4c18-97e8-377b487ce67e",
   "metadata": {
    "tags": []
   },
   "outputs": [],
   "source": [
    "#Reset the games dataframe index and ensure changes have been made correctly"
   ]
  },
  {
   "cell_type": "code",
   "execution_count": 184,
   "id": "c4d397a2-e874-42c1-b613-b0d00480420d",
   "metadata": {
    "tags": []
   },
   "outputs": [],
   "source": [
    "games=games.reset_index()"
   ]
  },
  {
   "cell_type": "code",
   "execution_count": 185,
   "id": "e6d79eb3-4025-4259-851b-0bc7a42c1e57",
   "metadata": {
    "tags": []
   },
   "outputs": [
    {
     "data": {
      "text/html": [
       "<div>\n",
       "<style scoped>\n",
       "    .dataframe tbody tr th:only-of-type {\n",
       "        vertical-align: middle;\n",
       "    }\n",
       "\n",
       "    .dataframe tbody tr th {\n",
       "        vertical-align: top;\n",
       "    }\n",
       "\n",
       "    .dataframe thead th {\n",
       "        text-align: right;\n",
       "    }\n",
       "</style>\n",
       "<table border=\"1\" class=\"dataframe\">\n",
       "  <thead>\n",
       "    <tr style=\"text-align: right;\">\n",
       "      <th></th>\n",
       "      <th>game_date</th>\n",
       "      <th>game_status_text</th>\n",
       "      <th>points_home</th>\n",
       "      <th>points_away</th>\n",
       "      <th>home_team_wins</th>\n",
       "      <th>city_home</th>\n",
       "      <th>nickname_home</th>\n",
       "      <th>city_away</th>\n",
       "      <th>nickname_away</th>\n",
       "    </tr>\n",
       "  </thead>\n",
       "  <tbody>\n",
       "    <tr>\n",
       "      <th>0</th>\n",
       "      <td>2020-12-19</td>\n",
       "      <td>Final</td>\n",
       "      <td>120</td>\n",
       "      <td>117</td>\n",
       "      <td>1</td>\n",
       "      <td>Orlando</td>\n",
       "      <td>Magic</td>\n",
       "      <td>Charlotte</td>\n",
       "      <td>Hornets</td>\n",
       "    </tr>\n",
       "    <tr>\n",
       "      <th>1</th>\n",
       "      <td>2020-12-17</td>\n",
       "      <td>Final</td>\n",
       "      <td>115</td>\n",
       "      <td>123</td>\n",
       "      <td>0</td>\n",
       "      <td>Orlando</td>\n",
       "      <td>Magic</td>\n",
       "      <td>Charlotte</td>\n",
       "      <td>Hornets</td>\n",
       "    </tr>\n",
       "    <tr>\n",
       "      <th>2</th>\n",
       "      <td>2014-03-28</td>\n",
       "      <td>Final</td>\n",
       "      <td>110</td>\n",
       "      <td>105</td>\n",
       "      <td>1</td>\n",
       "      <td>Orlando</td>\n",
       "      <td>Magic</td>\n",
       "      <td>Charlotte</td>\n",
       "      <td>Hornets</td>\n",
       "    </tr>\n",
       "    <tr>\n",
       "      <th>3</th>\n",
       "      <td>2014-01-17</td>\n",
       "      <td>Final</td>\n",
       "      <td>101</td>\n",
       "      <td>111</td>\n",
       "      <td>0</td>\n",
       "      <td>Orlando</td>\n",
       "      <td>Magic</td>\n",
       "      <td>Charlotte</td>\n",
       "      <td>Hornets</td>\n",
       "    </tr>\n",
       "    <tr>\n",
       "      <th>4</th>\n",
       "      <td>2013-02-19</td>\n",
       "      <td>Final</td>\n",
       "      <td>92</td>\n",
       "      <td>105</td>\n",
       "      <td>0</td>\n",
       "      <td>Orlando</td>\n",
       "      <td>Magic</td>\n",
       "      <td>Charlotte</td>\n",
       "      <td>Hornets</td>\n",
       "    </tr>\n",
       "  </tbody>\n",
       "</table>\n",
       "</div>"
      ],
      "text/plain": [
       "   game_date game_status_text  points_home  points_away  home_team_wins  \\\n",
       "0 2020-12-19            Final          120          117               1   \n",
       "1 2020-12-17            Final          115          123               0   \n",
       "2 2014-03-28            Final          110          105               1   \n",
       "3 2014-01-17            Final          101          111               0   \n",
       "4 2013-02-19            Final           92          105               0   \n",
       "\n",
       "  city_home nickname_home  city_away nickname_away  \n",
       "0   Orlando         Magic  Charlotte       Hornets  \n",
       "1   Orlando         Magic  Charlotte       Hornets  \n",
       "2   Orlando         Magic  Charlotte       Hornets  \n",
       "3   Orlando         Magic  Charlotte       Hornets  \n",
       "4   Orlando         Magic  Charlotte       Hornets  "
      ]
     },
     "execution_count": 185,
     "metadata": {},
     "output_type": "execute_result"
    }
   ],
   "source": [
    "games.head()"
   ]
  },
  {
   "cell_type": "code",
   "execution_count": 211,
   "id": "15b0e197-321e-4e94-9874-72c5c6e029e7",
   "metadata": {
    "tags": []
   },
   "outputs": [],
   "source": [
    "#Add a new column to the dataframe as a sum of home and away points to give column of total points for each game"
   ]
  },
  {
   "cell_type": "code",
   "execution_count": 186,
   "id": "0ee8fc2f-f60c-4070-a9d8-e1383968f3f4",
   "metadata": {
    "tags": []
   },
   "outputs": [],
   "source": [
    "games['points_total']=games['points_home']+games['points_away']"
   ]
  },
  {
   "cell_type": "code",
   "execution_count": 212,
   "id": "20513672-eb3f-44c0-8108-def2b7913d5d",
   "metadata": {
    "tags": []
   },
   "outputs": [],
   "source": [
    "#Verify new column total points"
   ]
  },
  {
   "cell_type": "code",
   "execution_count": 187,
   "id": "d04bb980-6ae2-4d73-8691-7294d53fc879",
   "metadata": {
    "tags": []
   },
   "outputs": [
    {
     "data": {
      "text/html": [
       "<div>\n",
       "<style scoped>\n",
       "    .dataframe tbody tr th:only-of-type {\n",
       "        vertical-align: middle;\n",
       "    }\n",
       "\n",
       "    .dataframe tbody tr th {\n",
       "        vertical-align: top;\n",
       "    }\n",
       "\n",
       "    .dataframe thead th {\n",
       "        text-align: right;\n",
       "    }\n",
       "</style>\n",
       "<table border=\"1\" class=\"dataframe\">\n",
       "  <thead>\n",
       "    <tr style=\"text-align: right;\">\n",
       "      <th></th>\n",
       "      <th>points_home</th>\n",
       "      <th>points_away</th>\n",
       "      <th>points_total</th>\n",
       "    </tr>\n",
       "  </thead>\n",
       "  <tbody>\n",
       "    <tr>\n",
       "      <th>0</th>\n",
       "      <td>120</td>\n",
       "      <td>117</td>\n",
       "      <td>237</td>\n",
       "    </tr>\n",
       "    <tr>\n",
       "      <th>1</th>\n",
       "      <td>115</td>\n",
       "      <td>123</td>\n",
       "      <td>238</td>\n",
       "    </tr>\n",
       "    <tr>\n",
       "      <th>2</th>\n",
       "      <td>110</td>\n",
       "      <td>105</td>\n",
       "      <td>215</td>\n",
       "    </tr>\n",
       "    <tr>\n",
       "      <th>3</th>\n",
       "      <td>101</td>\n",
       "      <td>111</td>\n",
       "      <td>212</td>\n",
       "    </tr>\n",
       "    <tr>\n",
       "      <th>4</th>\n",
       "      <td>92</td>\n",
       "      <td>105</td>\n",
       "      <td>197</td>\n",
       "    </tr>\n",
       "    <tr>\n",
       "      <th>...</th>\n",
       "      <td>...</td>\n",
       "      <td>...</td>\n",
       "      <td>...</td>\n",
       "    </tr>\n",
       "    <tr>\n",
       "      <th>23416</th>\n",
       "      <td>116</td>\n",
       "      <td>110</td>\n",
       "      <td>226</td>\n",
       "    </tr>\n",
       "    <tr>\n",
       "      <th>23417</th>\n",
       "      <td>110</td>\n",
       "      <td>100</td>\n",
       "      <td>210</td>\n",
       "    </tr>\n",
       "    <tr>\n",
       "      <th>23418</th>\n",
       "      <td>122</td>\n",
       "      <td>92</td>\n",
       "      <td>214</td>\n",
       "    </tr>\n",
       "    <tr>\n",
       "      <th>23419</th>\n",
       "      <td>119</td>\n",
       "      <td>113</td>\n",
       "      <td>232</td>\n",
       "    </tr>\n",
       "    <tr>\n",
       "      <th>23420</th>\n",
       "      <td>98</td>\n",
       "      <td>97</td>\n",
       "      <td>195</td>\n",
       "    </tr>\n",
       "  </tbody>\n",
       "</table>\n",
       "<p>23421 rows × 3 columns</p>\n",
       "</div>"
      ],
      "text/plain": [
       "       points_home  points_away  points_total\n",
       "0              120          117           237\n",
       "1              115          123           238\n",
       "2              110          105           215\n",
       "3              101          111           212\n",
       "4               92          105           197\n",
       "...            ...          ...           ...\n",
       "23416          116          110           226\n",
       "23417          110          100           210\n",
       "23418          122           92           214\n",
       "23419          119          113           232\n",
       "23420           98           97           195\n",
       "\n",
       "[23421 rows x 3 columns]"
      ]
     },
     "execution_count": 187,
     "metadata": {},
     "output_type": "execute_result"
    }
   ],
   "source": [
    "games[['points_home','points_away','points_total']]"
   ]
  },
  {
   "cell_type": "code",
   "execution_count": 213,
   "id": "4db03542-4a20-4a7e-8440-1f0a11504e5b",
   "metadata": {
    "tags": []
   },
   "outputs": [],
   "source": [
    "#Select the top three games with most points scored "
   ]
  },
  {
   "cell_type": "code",
   "execution_count": 188,
   "id": "55d1b914-ba1b-4a19-9bff-f04ab8a43544",
   "metadata": {
    "tags": []
   },
   "outputs": [
    {
     "data": {
      "text/html": [
       "<div>\n",
       "<style scoped>\n",
       "    .dataframe tbody tr th:only-of-type {\n",
       "        vertical-align: middle;\n",
       "    }\n",
       "\n",
       "    .dataframe tbody tr th {\n",
       "        vertical-align: top;\n",
       "    }\n",
       "\n",
       "    .dataframe thead th {\n",
       "        text-align: right;\n",
       "    }\n",
       "</style>\n",
       "<table border=\"1\" class=\"dataframe\">\n",
       "  <thead>\n",
       "    <tr style=\"text-align: right;\">\n",
       "      <th></th>\n",
       "      <th>game_date</th>\n",
       "      <th>game_status_text</th>\n",
       "      <th>points_home</th>\n",
       "      <th>points_away</th>\n",
       "      <th>home_team_wins</th>\n",
       "      <th>city_home</th>\n",
       "      <th>nickname_home</th>\n",
       "      <th>city_away</th>\n",
       "      <th>nickname_away</th>\n",
       "      <th>points_total</th>\n",
       "    </tr>\n",
       "  </thead>\n",
       "  <tbody>\n",
       "    <tr>\n",
       "      <th>15391</th>\n",
       "      <td>2019-03-01</td>\n",
       "      <td>Final</td>\n",
       "      <td>161</td>\n",
       "      <td>168</td>\n",
       "      <td>0</td>\n",
       "      <td>Atlanta</td>\n",
       "      <td>Hawks</td>\n",
       "      <td>Chicago</td>\n",
       "      <td>Bulls</td>\n",
       "      <td>329</td>\n",
       "    </tr>\n",
       "    <tr>\n",
       "      <th>16895</th>\n",
       "      <td>2006-12-07</td>\n",
       "      <td>Final</td>\n",
       "      <td>157</td>\n",
       "      <td>161</td>\n",
       "      <td>0</td>\n",
       "      <td>Brooklyn</td>\n",
       "      <td>Nets</td>\n",
       "      <td>Phoenix</td>\n",
       "      <td>Suns</td>\n",
       "      <td>318</td>\n",
       "    </tr>\n",
       "    <tr>\n",
       "      <th>15572</th>\n",
       "      <td>2019-10-30</td>\n",
       "      <td>Final</td>\n",
       "      <td>158</td>\n",
       "      <td>159</td>\n",
       "      <td>0</td>\n",
       "      <td>Washington</td>\n",
       "      <td>Wizards</td>\n",
       "      <td>Houston</td>\n",
       "      <td>Rockets</td>\n",
       "      <td>317</td>\n",
       "    </tr>\n",
       "  </tbody>\n",
       "</table>\n",
       "</div>"
      ],
      "text/plain": [
       "       game_date game_status_text  points_home  points_away  home_team_wins  \\\n",
       "15391 2019-03-01            Final          161          168               0   \n",
       "16895 2006-12-07            Final          157          161               0   \n",
       "15572 2019-10-30            Final          158          159               0   \n",
       "\n",
       "        city_home nickname_home city_away nickname_away  points_total  \n",
       "15391     Atlanta         Hawks   Chicago         Bulls           329  \n",
       "16895    Brooklyn          Nets   Phoenix          Suns           318  \n",
       "15572  Washington       Wizards   Houston       Rockets           317  "
      ]
     },
     "execution_count": 188,
     "metadata": {},
     "output_type": "execute_result"
    }
   ],
   "source": [
    "games.nlargest(n=3,columns='points_total')"
   ]
  },
  {
   "cell_type": "code",
   "execution_count": 214,
   "id": "44aa8bf2-6277-455e-8a01-d0f8f718d14b",
   "metadata": {
    "tags": []
   },
   "outputs": [],
   "source": [
    "#Sort the dataframe by ascending number of total points and view last three rows of dataframe to verify they are the same games as above "
   ]
  },
  {
   "cell_type": "code",
   "execution_count": 189,
   "id": "0b3e1f43-765c-489a-80bf-dadfb26bad4c",
   "metadata": {
    "tags": []
   },
   "outputs": [],
   "source": [
    "games=games.sort_values(by='points_total',ascending=True)"
   ]
  },
  {
   "cell_type": "code",
   "execution_count": 190,
   "id": "98ba54ba-f3c0-416b-9400-9b546f350110",
   "metadata": {
    "tags": []
   },
   "outputs": [
    {
     "data": {
      "text/html": [
       "<div>\n",
       "<style scoped>\n",
       "    .dataframe tbody tr th:only-of-type {\n",
       "        vertical-align: middle;\n",
       "    }\n",
       "\n",
       "    .dataframe tbody tr th {\n",
       "        vertical-align: top;\n",
       "    }\n",
       "\n",
       "    .dataframe thead th {\n",
       "        text-align: right;\n",
       "    }\n",
       "</style>\n",
       "<table border=\"1\" class=\"dataframe\">\n",
       "  <thead>\n",
       "    <tr style=\"text-align: right;\">\n",
       "      <th></th>\n",
       "      <th>game_date</th>\n",
       "      <th>game_status_text</th>\n",
       "      <th>points_home</th>\n",
       "      <th>points_away</th>\n",
       "      <th>home_team_wins</th>\n",
       "      <th>city_home</th>\n",
       "      <th>nickname_home</th>\n",
       "      <th>city_away</th>\n",
       "      <th>nickname_away</th>\n",
       "      <th>points_total</th>\n",
       "    </tr>\n",
       "  </thead>\n",
       "  <tbody>\n",
       "    <tr>\n",
       "      <th>15572</th>\n",
       "      <td>2019-10-30</td>\n",
       "      <td>Final</td>\n",
       "      <td>158</td>\n",
       "      <td>159</td>\n",
       "      <td>0</td>\n",
       "      <td>Washington</td>\n",
       "      <td>Wizards</td>\n",
       "      <td>Houston</td>\n",
       "      <td>Rockets</td>\n",
       "      <td>317</td>\n",
       "    </tr>\n",
       "    <tr>\n",
       "      <th>16895</th>\n",
       "      <td>2006-12-07</td>\n",
       "      <td>Final</td>\n",
       "      <td>157</td>\n",
       "      <td>161</td>\n",
       "      <td>0</td>\n",
       "      <td>Brooklyn</td>\n",
       "      <td>Nets</td>\n",
       "      <td>Phoenix</td>\n",
       "      <td>Suns</td>\n",
       "      <td>318</td>\n",
       "    </tr>\n",
       "    <tr>\n",
       "      <th>15391</th>\n",
       "      <td>2019-03-01</td>\n",
       "      <td>Final</td>\n",
       "      <td>161</td>\n",
       "      <td>168</td>\n",
       "      <td>0</td>\n",
       "      <td>Atlanta</td>\n",
       "      <td>Hawks</td>\n",
       "      <td>Chicago</td>\n",
       "      <td>Bulls</td>\n",
       "      <td>329</td>\n",
       "    </tr>\n",
       "  </tbody>\n",
       "</table>\n",
       "</div>"
      ],
      "text/plain": [
       "       game_date game_status_text  points_home  points_away  home_team_wins  \\\n",
       "15572 2019-10-30            Final          158          159               0   \n",
       "16895 2006-12-07            Final          157          161               0   \n",
       "15391 2019-03-01            Final          161          168               0   \n",
       "\n",
       "        city_home nickname_home city_away nickname_away  points_total  \n",
       "15572  Washington       Wizards   Houston       Rockets           317  \n",
       "16895    Brooklyn          Nets   Phoenix          Suns           318  \n",
       "15391     Atlanta         Hawks   Chicago         Bulls           329  "
      ]
     },
     "execution_count": 190,
     "metadata": {},
     "output_type": "execute_result"
    }
   ],
   "source": [
    "games.tail(3)"
   ]
  },
  {
   "cell_type": "code",
   "execution_count": 216,
   "id": "5126811b-3f50-4986-9e8e-b64109de0235",
   "metadata": {
    "tags": []
   },
   "outputs": [],
   "source": [
    "#Select the row with the game with the lowest points scored"
   ]
  },
  {
   "cell_type": "code",
   "execution_count": 191,
   "id": "78243b51-1328-41b9-bc55-81da47b73340",
   "metadata": {
    "tags": []
   },
   "outputs": [
    {
     "data": {
      "text/plain": [
       "game_date           2007-10-19 00:00:00\n",
       "game_status_text                  Final\n",
       "points_home                          36\n",
       "points_away                          33\n",
       "home_team_wins                        1\n",
       "city_home                        Boston\n",
       "nickname_home                   Celtics\n",
       "city_away                      Brooklyn\n",
       "nickname_away                      Nets\n",
       "points_total                         69\n",
       "Name: 2475, dtype: object"
      ]
     },
     "execution_count": 191,
     "metadata": {},
     "output_type": "execute_result"
    }
   ],
   "source": [
    "games.iloc[0]"
   ]
  },
  {
   "cell_type": "code",
   "execution_count": 218,
   "id": "4a94b844-52f0-4563-994c-07ff2a7e4e04",
   "metadata": {
    "tags": []
   },
   "outputs": [],
   "source": [
    "#Select the rows with games in which the second and third lowest number of points were scored"
   ]
  },
  {
   "cell_type": "code",
   "execution_count": 193,
   "id": "086b6acb-f3c3-4515-8907-f05839b37710",
   "metadata": {
    "tags": []
   },
   "outputs": [
    {
     "data": {
      "text/html": [
       "<div>\n",
       "<style scoped>\n",
       "    .dataframe tbody tr th:only-of-type {\n",
       "        vertical-align: middle;\n",
       "    }\n",
       "\n",
       "    .dataframe tbody tr th {\n",
       "        vertical-align: top;\n",
       "    }\n",
       "\n",
       "    .dataframe thead th {\n",
       "        text-align: right;\n",
       "    }\n",
       "</style>\n",
       "<table border=\"1\" class=\"dataframe\">\n",
       "  <thead>\n",
       "    <tr style=\"text-align: right;\">\n",
       "      <th></th>\n",
       "      <th>game_date</th>\n",
       "      <th>game_status_text</th>\n",
       "      <th>points_home</th>\n",
       "      <th>points_away</th>\n",
       "      <th>home_team_wins</th>\n",
       "      <th>city_home</th>\n",
       "      <th>nickname_home</th>\n",
       "      <th>city_away</th>\n",
       "      <th>nickname_away</th>\n",
       "      <th>points_total</th>\n",
       "    </tr>\n",
       "  </thead>\n",
       "  <tbody>\n",
       "    <tr>\n",
       "      <th>14885</th>\n",
       "      <td>2003-10-08</td>\n",
       "      <td>Final</td>\n",
       "      <td>62</td>\n",
       "      <td>58</td>\n",
       "      <td>1</td>\n",
       "      <td>Indiana</td>\n",
       "      <td>Pacers</td>\n",
       "      <td>Chicago</td>\n",
       "      <td>Bulls</td>\n",
       "      <td>120</td>\n",
       "    </tr>\n",
       "    <tr>\n",
       "      <th>5948</th>\n",
       "      <td>2004-11-09</td>\n",
       "      <td>Final</td>\n",
       "      <td>64</td>\n",
       "      <td>60</td>\n",
       "      <td>1</td>\n",
       "      <td>Brooklyn</td>\n",
       "      <td>Nets</td>\n",
       "      <td>Portland</td>\n",
       "      <td>Trail Blazers</td>\n",
       "      <td>124</td>\n",
       "    </tr>\n",
       "  </tbody>\n",
       "</table>\n",
       "</div>"
      ],
      "text/plain": [
       "       game_date game_status_text  points_home  points_away  home_team_wins  \\\n",
       "14885 2003-10-08            Final           62           58               1   \n",
       "5948  2004-11-09            Final           64           60               1   \n",
       "\n",
       "      city_home nickname_home city_away  nickname_away  points_total  \n",
       "14885   Indiana        Pacers   Chicago          Bulls           120  \n",
       "5948   Brooklyn          Nets  Portland  Trail Blazers           124  "
      ]
     },
     "execution_count": 193,
     "metadata": {},
     "output_type": "execute_result"
    }
   ],
   "source": [
    "games.iloc[[1,2]]"
   ]
  },
  {
   "cell_type": "code",
   "execution_count": 219,
   "id": "751ae491-21df-43be-9c78-347a46becf4e",
   "metadata": {
    "tags": []
   },
   "outputs": [],
   "source": [
    "#Select a subset of the dataframe for only the first four rows and five columns"
   ]
  },
  {
   "cell_type": "code",
   "execution_count": 194,
   "id": "92f3c517-c717-4588-8479-b17256bc857a",
   "metadata": {
    "tags": []
   },
   "outputs": [
    {
     "data": {
      "text/html": [
       "<div>\n",
       "<style scoped>\n",
       "    .dataframe tbody tr th:only-of-type {\n",
       "        vertical-align: middle;\n",
       "    }\n",
       "\n",
       "    .dataframe tbody tr th {\n",
       "        vertical-align: top;\n",
       "    }\n",
       "\n",
       "    .dataframe thead th {\n",
       "        text-align: right;\n",
       "    }\n",
       "</style>\n",
       "<table border=\"1\" class=\"dataframe\">\n",
       "  <thead>\n",
       "    <tr style=\"text-align: right;\">\n",
       "      <th></th>\n",
       "      <th>game_date</th>\n",
       "      <th>game_status_text</th>\n",
       "      <th>points_home</th>\n",
       "      <th>points_away</th>\n",
       "      <th>home_team_wins</th>\n",
       "    </tr>\n",
       "  </thead>\n",
       "  <tbody>\n",
       "    <tr>\n",
       "      <th>2475</th>\n",
       "      <td>2007-10-19</td>\n",
       "      <td>Final</td>\n",
       "      <td>36</td>\n",
       "      <td>33</td>\n",
       "      <td>1</td>\n",
       "    </tr>\n",
       "    <tr>\n",
       "      <th>14885</th>\n",
       "      <td>2003-10-08</td>\n",
       "      <td>Final</td>\n",
       "      <td>62</td>\n",
       "      <td>58</td>\n",
       "      <td>1</td>\n",
       "    </tr>\n",
       "    <tr>\n",
       "      <th>5948</th>\n",
       "      <td>2004-11-09</td>\n",
       "      <td>Final</td>\n",
       "      <td>64</td>\n",
       "      <td>60</td>\n",
       "      <td>1</td>\n",
       "    </tr>\n",
       "    <tr>\n",
       "      <th>13807</th>\n",
       "      <td>2005-03-13</td>\n",
       "      <td>Final</td>\n",
       "      <td>64</td>\n",
       "      <td>62</td>\n",
       "      <td>1</td>\n",
       "    </tr>\n",
       "  </tbody>\n",
       "</table>\n",
       "</div>"
      ],
      "text/plain": [
       "       game_date game_status_text  points_home  points_away  home_team_wins\n",
       "2475  2007-10-19            Final           36           33               1\n",
       "14885 2003-10-08            Final           62           58               1\n",
       "5948  2004-11-09            Final           64           60               1\n",
       "13807 2005-03-13            Final           64           62               1"
      ]
     },
     "execution_count": 194,
     "metadata": {},
     "output_type": "execute_result"
    }
   ],
   "source": [
    "games.iloc[:4,:5]"
   ]
  },
  {
   "cell_type": "code",
   "execution_count": 220,
   "id": "abb0c170-6122-4b08-85eb-7d1662605bb5",
   "metadata": {
    "tags": []
   },
   "outputs": [],
   "source": [
    "#Preview final form of games dataframe after manipulation"
   ]
  },
  {
   "cell_type": "code",
   "execution_count": 221,
   "id": "c20022f2-722d-4862-8569-3dc1dcc6bfb9",
   "metadata": {
    "tags": []
   },
   "outputs": [
    {
     "data": {
      "text/html": [
       "<div>\n",
       "<style scoped>\n",
       "    .dataframe tbody tr th:only-of-type {\n",
       "        vertical-align: middle;\n",
       "    }\n",
       "\n",
       "    .dataframe tbody tr th {\n",
       "        vertical-align: top;\n",
       "    }\n",
       "\n",
       "    .dataframe thead th {\n",
       "        text-align: right;\n",
       "    }\n",
       "</style>\n",
       "<table border=\"1\" class=\"dataframe\">\n",
       "  <thead>\n",
       "    <tr style=\"text-align: right;\">\n",
       "      <th></th>\n",
       "      <th>game_date</th>\n",
       "      <th>game_status_text</th>\n",
       "      <th>points_home</th>\n",
       "      <th>points_away</th>\n",
       "      <th>home_team_wins</th>\n",
       "      <th>city_home</th>\n",
       "      <th>nickname_home</th>\n",
       "      <th>city_away</th>\n",
       "      <th>nickname_away</th>\n",
       "      <th>points_total</th>\n",
       "    </tr>\n",
       "  </thead>\n",
       "  <tbody>\n",
       "    <tr>\n",
       "      <th>2475</th>\n",
       "      <td>2007-10-19</td>\n",
       "      <td>Final</td>\n",
       "      <td>36</td>\n",
       "      <td>33</td>\n",
       "      <td>1</td>\n",
       "      <td>Boston</td>\n",
       "      <td>Celtics</td>\n",
       "      <td>Brooklyn</td>\n",
       "      <td>Nets</td>\n",
       "      <td>69</td>\n",
       "    </tr>\n",
       "    <tr>\n",
       "      <th>14885</th>\n",
       "      <td>2003-10-08</td>\n",
       "      <td>Final</td>\n",
       "      <td>62</td>\n",
       "      <td>58</td>\n",
       "      <td>1</td>\n",
       "      <td>Indiana</td>\n",
       "      <td>Pacers</td>\n",
       "      <td>Chicago</td>\n",
       "      <td>Bulls</td>\n",
       "      <td>120</td>\n",
       "    </tr>\n",
       "    <tr>\n",
       "      <th>5948</th>\n",
       "      <td>2004-11-09</td>\n",
       "      <td>Final</td>\n",
       "      <td>64</td>\n",
       "      <td>60</td>\n",
       "      <td>1</td>\n",
       "      <td>Brooklyn</td>\n",
       "      <td>Nets</td>\n",
       "      <td>Portland</td>\n",
       "      <td>Trail Blazers</td>\n",
       "      <td>124</td>\n",
       "    </tr>\n",
       "    <tr>\n",
       "      <th>13807</th>\n",
       "      <td>2005-03-13</td>\n",
       "      <td>Final</td>\n",
       "      <td>64</td>\n",
       "      <td>62</td>\n",
       "      <td>1</td>\n",
       "      <td>Detroit</td>\n",
       "      <td>Pistons</td>\n",
       "      <td>Utah</td>\n",
       "      <td>Jazz</td>\n",
       "      <td>126</td>\n",
       "    </tr>\n",
       "    <tr>\n",
       "      <th>3555</th>\n",
       "      <td>2003-11-01</td>\n",
       "      <td>Final</td>\n",
       "      <td>73</td>\n",
       "      <td>56</td>\n",
       "      <td>1</td>\n",
       "      <td>Minnesota</td>\n",
       "      <td>Timberwolves</td>\n",
       "      <td>Toronto</td>\n",
       "      <td>Raptors</td>\n",
       "      <td>129</td>\n",
       "    </tr>\n",
       "  </tbody>\n",
       "</table>\n",
       "</div>"
      ],
      "text/plain": [
       "       game_date game_status_text  points_home  points_away  home_team_wins  \\\n",
       "2475  2007-10-19            Final           36           33               1   \n",
       "14885 2003-10-08            Final           62           58               1   \n",
       "5948  2004-11-09            Final           64           60               1   \n",
       "13807 2005-03-13            Final           64           62               1   \n",
       "3555  2003-11-01            Final           73           56               1   \n",
       "\n",
       "       city_home nickname_home city_away  nickname_away  points_total  \n",
       "2475      Boston       Celtics  Brooklyn           Nets            69  \n",
       "14885    Indiana        Pacers   Chicago          Bulls           120  \n",
       "5948    Brooklyn          Nets  Portland  Trail Blazers           124  \n",
       "13807    Detroit       Pistons      Utah           Jazz           126  \n",
       "3555   Minnesota  Timberwolves   Toronto        Raptors           129  "
      ]
     },
     "execution_count": 221,
     "metadata": {},
     "output_type": "execute_result"
    }
   ],
   "source": [
    "games.head()"
   ]
  }
 ],
 "metadata": {
  "kernelspec": {
   "display_name": "Python 3 (ipykernel)",
   "language": "python",
   "name": "python3"
  },
  "language_info": {
   "codemirror_mode": {
    "name": "ipython",
    "version": 3
   },
   "file_extension": ".py",
   "mimetype": "text/x-python",
   "name": "python",
   "nbconvert_exporter": "python",
   "pygments_lexer": "ipython3",
   "version": "3.11.5"
  }
 },
 "nbformat": 4,
 "nbformat_minor": 5
}
